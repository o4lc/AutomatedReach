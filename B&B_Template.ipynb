{
  "cells": [
    {
      "cell_type": "code",
      "execution_count": 3,
      "metadata": {
        "id": "fCfsRaGK-1JZ"
      },
      "outputs": [],
      "source": [
        "import numpy as np\n",
        "import cvxpy as cp\n",
        "import torch\n",
        "from torch.autograd import Variable\n",
        "from torch.autograd.grad_mode import no_grad\n",
        "from torch.autograd.functional import jacobian\n",
        "import matplotlib.pyplot as plt\n",
        "from matplotlib import pyplot as plt, patches"
      ]
    },
    {
      "cell_type": "code",
      "execution_count": 34,
      "metadata": {
        "id": "UTI1rKXrGet6"
      },
      "outputs": [],
      "source": [
        "dim = 2\n",
        "eps = 0.1\n",
        "\n",
        "Q =  np.array([[2, 0], [0, 1]])\n",
        "\n",
        "def fx(x, pkg=np):\n",
        "    if pkg==np:\n",
        "        cost = 0.5 * x.T @ Q @ x\n",
        "    else:\n",
        "        cost = 0.5 * pkg.t(x) @ pkg.from_numpy(Q.astype('float')).float() @ x\n",
        "    return cost\n",
        "\n",
        "# Needed for Jacobian Calculations\n",
        "# def expression_reducer(x):\n",
        "#     cost = torch.diag(0.5 * x @ torch.from_numpy(Q.astype('float')).float() @ torch.transpose(x, 0, 1))\n",
        "#     return cost"
      ]
    },
    {
      "cell_type": "code",
      "execution_count": 35,
      "metadata": {
        "id": "FO1ZAoqZ_YjI"
      },
      "outputs": [],
      "source": [
        "class BB_node:\n",
        "    def __init__(self, up=None, low=None, coord_up=None, coord_low=None):\n",
        "        self.upper = up\n",
        "        self.lower = low\n",
        "        self.coord_upper = np.array(coord_up, dtype=float)\n",
        "        self.coord_lower = np.array(coord_low, dtype=float)\n",
        "        self.score = self.calc_score()\n",
        "    \n",
        "    def calc_score(self):\n",
        "        # Temp scoring function\n",
        "        if self.upper == None:\n",
        "            return None\n",
        "        \n",
        "        return np.max(self.coord_upper - self.coord_lower)\n",
        "\n",
        "    def __repr__(self):\n",
        "        return str(self.coord_lower) + ' ≤ ' + str(self.coord_upper)"
      ]
    },
    {
      "cell_type": "code",
      "execution_count": 17,
      "metadata": {
        "id": "C5DqgkDycMJL"
      },
      "outputs": [],
      "source": [
        "def plot_space(space):\n",
        "    plt.rcParams[\"figure.figsize\"] = [7.00, 3.50]\n",
        "    plt.rcParams[\"figure.autolayout\"] = True\n",
        "    fig = plt.figure()\n",
        "    ax = fig.add_subplot(111)\n",
        "    rectangle = patches.Rectangle((l[0], l[1]), u[0], u[1], edgecolor=None, facecolor=\"grey\", linewidth=7, alpha=0.5)\n",
        "    ax.add_patch(rectangle)\n",
        "\n",
        "    for node in space:\n",
        "        rectangle = patches.Rectangle((node.coord_lower[0], node.coord_lower[1]), \n",
        "                                    node.coord_upper[0] - node.coord_lower[0], \n",
        "                                    node.coord_upper[1] - node.coord_lower[1], \n",
        "                                    edgecolor=None, facecolor=\"green\", linewidth=7, alpha=0.3)\n",
        "        ax.add_patch(rectangle)\n",
        "        ax.vlines(x=node.coord_lower[0], ymin=node.coord_lower[1], \n",
        "                            ymax=node.coord_upper[1], color='r', linestyle='--')\n",
        "        \n",
        "        ax.vlines(x=node.coord_upper[0], ymin=node.coord_lower[1], \n",
        "                            ymax=node.coord_upper[1], color='r', linestyle='--')\n",
        "        \n",
        "        ax.hlines(y=node.coord_lower[1], xmin=node.coord_lower[0], \n",
        "                            xmax=node.coord_upper[0], color='r', linestyle='--')\n",
        "        \n",
        "        ax.hlines(y=node.coord_upper[1], xmin=node.coord_lower[0], \n",
        "                            xmax=node.coord_upper[0], color='r', linestyle='--')\n",
        "    plt.xlim([l[0] - 2, u[0] + 2])\n",
        "    plt.ylim([l[1] - 2, u[1] + 2])\n",
        "    plt.show()"
      ]
    },
    {
      "cell_type": "code",
      "execution_count": 38,
      "metadata": {
        "id": "YC55HLT0-5BZ"
      },
      "outputs": [],
      "source": [
        "class Branch_Bound:\n",
        "    def __init__(self, coord_up=None, coord_low=None, verbose=False, eta=1e-3):\n",
        "        self.space_nodes = [BB_node(np.infty, -np.infty, coord_up, coord_low)]\n",
        "        self.BUB = None\n",
        "        self.BLB = None\n",
        "        self.verbose = verbose\n",
        "        self.eta = eta\n",
        "        self.PGD_iter = 5\n",
        "        self.bach_number = 1\n",
        "\n",
        "    def prune(self):\n",
        "        for node in self.space_nodes:\n",
        "            if node.lower >= self.BUB:\n",
        "                self.space_nodes.remove(node)\n",
        "                if self.verbose:\n",
        "                    print('deleted')\n",
        "\n",
        "    def lower_bound(self, index):\n",
        "        temp = self.space_nodes[index].coord_lower\n",
        "        return (0.25 * temp.T @ Q @ temp - 1 / (10 + 10 * len(self.space_nodes)))\n",
        "\n",
        "    def upper_bound(self, index):\n",
        "        # add gradient descent\n",
        "        x0 = np.random.uniform(low = self.space_nodes[index].coord_lower, \n",
        "                                          high = self.space_nodes[index].coord_upper,\n",
        "                                            size=(self.bach_number, dim))\n",
        "\n",
        "        x = Variable(torch.from_numpy(x0.astype('float')).float(), requires_grad=True)\n",
        "        \n",
        "        for i in range(self.PGD_iter):\n",
        "            x.requires_grad = True\n",
        "            for j in range(self.bach_number):\n",
        "                with torch.autograd.profiler.profile() as prof:\n",
        "                    ll = fx(x[j], torch)\n",
        "                    ll.backward()\n",
        "                    l.append(ll.data)\n",
        "\n",
        "            with no_grad():\n",
        "                gradient = x.grad.data\n",
        "                x = x - self.eta * gradient\n",
        "\n",
        "            # Calculating the diagonals together\n",
        "            # with no_grad():\n",
        "            #     print(x)\n",
        "            #     print(\"+\")\n",
        "            #     gradient = jacobian(expression_reducer, x)\n",
        "            #     print('grad', gradient)\n",
        "            #     x = x - self.eta * gradient\n",
        "\n",
        "        # # x = torch.clip(x, torch.from_numpy(self.space_nodes[index].coord_lower), \n",
        "        # #                         torch.from_numpy(self.space_nodes[index].coord_upper)).float()\n",
        "\n",
        "        # # x = torch.clamp(x, torch.from_numpy(self.space_nodes[index].coord_lower).float(), \n",
        "        # #                         torch.from_numpy(self.space_nodes[index].coord_upper).float()).float()\n",
        "\n",
        "        x = torch.max(torch.min(x, torch.from_numpy(self.space_nodes[index].coord_upper).float()),\n",
        "                        torch.from_numpy(self.space_nodes[index].coord_lower).float())\n",
        "\n",
        "        ub = np.min([fx(xx, torch) for xx in x])\n",
        "\n",
        "        return ub\n",
        "\n",
        "    def branch(self):\n",
        "        # Prunning Function\n",
        "        self.prune()\n",
        "\n",
        "        # Choosing the node to branch\n",
        "        max_score, max_index = -1, -1\n",
        "        for i in range(len(self.space_nodes)):\n",
        "            if self.space_nodes[i].score > max_score:\n",
        "                max_index = i\n",
        "                max_score = self.space_nodes[i].score\n",
        "\n",
        "        coord_to_split = np.argmax(self.space_nodes[max_index].coord_upper \n",
        "                                   - self.space_nodes[max_index].coord_lower)\n",
        "        \n",
        "        # This can be optimized by keeping the best previous 'x's in that space\n",
        "        node = self.space_nodes.pop(max_index)\n",
        "        node_l = np.array(node.coord_lower, dtype=float)\n",
        "        node_u = np.array(node.coord_upper, dtype=float)\n",
        "\n",
        "\n",
        "        new_axis = (node.coord_upper[coord_to_split] + \n",
        "                           node.coord_lower[coord_to_split])/2\n",
        "\n",
        "        node_split_u1 = np.array(node_u, dtype=float)\n",
        "        node_split_u1[coord_to_split] = new_axis\n",
        "\n",
        "        node_split_l2 = np.array(node_l, dtype=float)\n",
        "        node_split_l2[coord_to_split] = new_axis\n",
        "\n",
        "        self.space_nodes.append(BB_node(np.infty, -np.infty, node_split_u1, node_l))\n",
        "        self.space_nodes.append(BB_node(np.infty, -np.infty, node_u, node_split_l2))\n",
        "                \n",
        "        return [len(self.space_nodes) - 2, len(self.space_nodes) - 1], node.upper, node.lower\n",
        "\n",
        "    def bound(self, index, parent_ub, parent_lb): \n",
        "        cost_upper = self.upper_bound(index)\n",
        "        cost_lower = self.lower_bound(index)\n",
        "\n",
        "        self.space_nodes[index].lower = max(cost_lower, parent_lb)\n",
        "        self.space_nodes[index].upper = cost_upper\n",
        "        # self.space_nodes[index].upper = min(cost_upper, parent_ub)\n",
        "\n",
        "\n",
        "    def run(self):\n",
        "        self.BUB = np.infty\n",
        "        self.BLB = -np.infty\n",
        "\n",
        "        # print(\"#1\", self.space_nodes)\n",
        "        self.bound(0, self.BUB, self.BLB)\n",
        "        while self.BUB - self.BLB >= eps:\n",
        "            indeces, deleted_ub, deleted_lb = self.branch()\n",
        "            # print(\"#2\", self.space_nodes)\n",
        "            for ind in indeces:\n",
        "                self.bound(ind, deleted_ub, deleted_lb)\n",
        "\n",
        "            self.BUB = np.min([self.space_nodes[i].upper for i in range(len(self.space_nodes))])\n",
        "            self.BLB = np.min([self.space_nodes[i].lower for i in range(len(self.space_nodes))])\n",
        "            \n",
        "            if self.verbose:\n",
        "                print(self.BLB , self.BUB)\n",
        "                plot_space(self.space_nodes)\n",
        "                print('--------------------')\n",
        "\n",
        "\n",
        "\n",
        "        return self.BLB, self.BUB, self.space_nodes\n",
        "\n",
        "    def __repr__(self):\n",
        "        string = 'These are the remaining nodes: \\n'\n",
        "        for i in range(len(self.space_nodes)):\n",
        "            string += self.space_nodes[i].__repr__() \n",
        "            string += \"\\n\"\n",
        "\n",
        "        return string\n",
        "        "
      ]
    },
    {
      "cell_type": "code",
      "execution_count": 39,
      "metadata": {
        "colab": {
          "base_uri": "https://localhost:8080/",
          "height": 1000
        },
        "id": "Rpq01Y90C6MM",
        "outputId": "ec233930-ba3c-4c1f-cd91-ae5304e49e64"
      },
      "outputs": [
        {
          "name": "stdout",
          "output_type": "stream",
          "text": [
            "-0.025833333333333333 24.386871\n"
          ]
        },
        {
          "data": {
            "image/png": "[encoded data removed]",
            "text/plain": [
              "<Figure size 504x252 with 1 Axes>"
            ]
          },
          "metadata": {
            "needs_background": "light"
          },
          "output_type": "display_data"
        },
        {
          "name": "stdout",
          "output_type": "stream",
          "text": [
            "--------------------\n",
            "-0.0175 1.3415587\n"
          ]
        },
        {
          "data": {
            "image/png": "[encoded data removed]",
            "text/plain": [
              "<Figure size 504x252 with 1 Axes>"
            ]
          },
          "metadata": {
            "needs_background": "light"
          },
          "output_type": "display_data"
        },
        {
          "name": "stdout",
          "output_type": "stream",
          "text": [
            "--------------------\n",
            "deleted\n",
            "deleted\n",
            "-0.0175 8.33387\n"
          ]
        },
        {
          "data": {
            "image/png": "[encoded data removed]",
            "text/plain": [
              "<Figure size 504x252 with 1 Axes>"
            ]
          },
          "metadata": {
            "needs_background": "light"
          },
          "output_type": "display_data"
        },
        {
          "name": "stdout",
          "output_type": "stream",
          "text": [
            "--------------------\n",
            "-0.0175 5.815311\n"
          ]
        },
        {
          "data": {
            "image/png": "[encoded data removed]",
            "text/plain": [
              "<Figure size 504x252 with 1 Axes>"
            ]
          },
          "metadata": {
            "needs_background": "light"
          },
          "output_type": "display_data"
        },
        {
          "name": "stdout",
          "output_type": "stream",
          "text": [
            "--------------------\n",
            "-0.0175 5.815311\n"
          ]
        },
        {
          "data": {
            "image/png": "[encoded data removed]",
            "text/plain": [
              "<Figure size 504x252 with 1 Axes>"
            ]
          },
          "metadata": {
            "needs_background": "light"
          },
          "output_type": "display_data"
        },
        {
          "name": "stdout",
          "output_type": "stream",
          "text": [
            "--------------------\n",
            "-0.0175 5.1467137\n"
          ]
        },
        {
          "data": {
            "image/png": "[encoded data removed]",
            "text/plain": [
              "<Figure size 504x252 with 1 Axes>"
            ]
          },
          "metadata": {
            "needs_background": "light"
          },
          "output_type": "display_data"
        },
        {
          "name": "stdout",
          "output_type": "stream",
          "text": [
            "--------------------\n",
            "-0.0175 5.1467137\n"
          ]
        },
        {
          "data": {
            "image/png": "[encoded data removed]",
            "text/plain": [
              "<Figure size 504x252 with 1 Axes>"
            ]
          },
          "metadata": {
            "needs_background": "light"
          },
          "output_type": "display_data"
        },
        {
          "name": "stdout",
          "output_type": "stream",
          "text": [
            "--------------------\n",
            "deleted\n",
            "-0.0175 5.1467137\n"
          ]
        },
        {
          "data": {
            "image/png": "[encoded data removed]",
            "text/plain": [
              "<Figure size 504x252 with 1 Axes>"
            ]
          },
          "metadata": {
            "needs_background": "light"
          },
          "output_type": "display_data"
        },
        {
          "name": "stdout",
          "output_type": "stream",
          "text": [
            "--------------------\n",
            "deleted\n",
            "-0.0175 5.1467137\n"
          ]
        },
        {
          "data": {
            "image/png": "[encoded data removed]",
            "text/plain": [
              "<Figure size 504x252 with 1 Axes>"
            ]
          },
          "metadata": {
            "needs_background": "light"
          },
          "output_type": "display_data"
        },
        {
          "name": "stdout",
          "output_type": "stream",
          "text": [
            "--------------------\n",
            "deleted\n",
            "-0.006785714285714284 0.70790493\n"
          ]
        },
        {
          "data": {
            "image/png": "[encoded data removed]",
            "text/plain": [
              "<Figure size 504x252 with 1 Axes>"
            ]
          },
          "metadata": {
            "needs_background": "light"
          },
          "output_type": "display_data"
        },
        {
          "name": "stdout",
          "output_type": "stream",
          "text": [
            "--------------------\n",
            "deleted\n",
            "deleted\n",
            "deleted\n",
            "-0.006785714285714284 0.70790493\n"
          ]
        },
        {
          "data": {
            "image/png": "[encoded data removed]",
            "text/plain": [
              "<Figure size 504x252 with 1 Axes>"
            ]
          },
          "metadata": {
            "needs_background": "light"
          },
          "output_type": "display_data"
        },
        {
          "name": "stdout",
          "output_type": "stream",
          "text": [
            "--------------------\n",
            "deleted\n",
            "deleted\n",
            "-0.006785714285714284 0.23260653\n"
          ]
        },
        {
          "data": {
            "image/png": "[encoded data removed]",
            "text/plain": [
              "<Figure size 504x252 with 1 Axes>"
            ]
          },
          "metadata": {
            "needs_background": "light"
          },
          "output_type": "display_data"
        },
        {
          "name": "stdout",
          "output_type": "stream",
          "text": [
            "--------------------\n",
            "deleted\n",
            "deleted\n",
            "-0.006785714285714284 0.51559424\n"
          ]
        },
        {
          "data": {
            "image/png": "[encoded data removed]",
            "text/plain": [
              "<Figure size 504x252 with 1 Axes>"
            ]
          },
          "metadata": {
            "needs_background": "light"
          },
          "output_type": "display_data"
        },
        {
          "name": "stdout",
          "output_type": "stream",
          "text": [
            "--------------------\n",
            "-0.006785714285714284 0.18714708\n"
          ]
        },
        {
          "data": {
            "image/png": "[encoded data removed]",
            "text/plain": [
              "<Figure size 504x252 with 1 Axes>"
            ]
          },
          "metadata": {
            "needs_background": "light"
          },
          "output_type": "display_data"
        },
        {
          "name": "stdout",
          "output_type": "stream",
          "text": [
            "--------------------\n",
            "deleted\n",
            "-0.006785714285714284 0.084462754\n"
          ]
        },
        {
          "data": {
            "image/png": "[encoded data removed]",
            "text/plain": [
              "<Figure size 504x252 with 1 Axes>"
            ]
          },
          "metadata": {
            "needs_background": "light"
          },
          "output_type": "display_data"
        },
        {
          "name": "stdout",
          "output_type": "stream",
          "text": [
            "--------------------\n",
            "Best upper/lower bounds are: -0.006785714285714284 -> 0.084462754\n",
            "These are the remaining nodes: \n",
            "[0.1   0.725] ≤ [0.725 1.35 ]\n",
            "[0.1 0.1] ≤ [0.4125 0.725 ]\n",
            "[0.4125 0.1   ] ≤ [0.725 0.725]\n",
            "\n"
          ]
        }
      ],
      "source": [
        "l = [0.1, 0.1]\n",
        "u = [10.1, 10.1]\n",
        "\n",
        "BB = Branch_Bound(u, l, verbose=1)\n",
        "LB, UB, space_left = BB.run()\n",
        "print('Best upper/lower bounds are:', LB, '->' ,UB)\n",
        "print(BB)\n"
      ]
    },
    {
      "cell_type": "code",
      "execution_count": null,
      "metadata": {
        "colab": {
          "base_uri": "https://localhost:8080/"
        },
        "id": "Rqoz1KgMLdpx",
        "outputId": "233a9bfe-8001-47ba-eb3f-37aa014fcc06"
      },
      "outputs": [
        {
          "data": {
            "text/plain": [
              "0.015000000000000003"
            ]
          },
          "execution_count": 60,
          "metadata": {},
          "output_type": "execute_result"
        }
      ],
      "source": [
        "fx(np.array([0.1, 0.1]))"
      ]
    },
    {
      "cell_type": "markdown",
      "metadata": {},
      "source": [
        "Version of the packages"
      ]
    },
    {
      "cell_type": "code",
      "execution_count": 43,
      "metadata": {
        "id": "5ZAJ-NGYatlq"
      },
      "outputs": [
        {
          "name": "stdout",
          "output_type": "stream",
          "text": [
            "1.5.1+cpu \n",
            "\n",
            "torch                   1.5.1+cpu            /home/sina/.local/lib/python3.8/site-packages pip      \n",
            "torchaudio              0.5.1                /home/sina/.local/lib/python3.8/site-packages pip      \n",
            "torchvision             0.6.1+cpu            /home/sina/.local/lib/python3.8/site-packages pip      \n"
          ]
        }
      ],
      "source": [
        "print (torch.__version__, '\\n')\n",
        "!pip list -v | grep torch"
      ]
    },
    {
      "cell_type": "code",
      "execution_count": null,
      "metadata": {},
      "outputs": [],
      "source": []
    }
  ],
  "metadata": {
    "colab": {
      "collapsed_sections": [],
      "name": "B&B Template.ipynb",
      "provenance": []
    },
    "kernelspec": {
      "display_name": "Python 3.8.10 64-bit",
      "language": "python",
      "name": "python3"
    },
    "language_info": {
      "codemirror_mode": {
        "name": "ipython",
        "version": 3
      },
      "file_extension": ".py",
      "mimetype": "text/x-python",
      "name": "python",
      "nbconvert_exporter": "python",
      "pygments_lexer": "ipython3",
      "version": "3.8.10"
    },
    "vscode": {
      "interpreter": {
        "hash": "916dbcbb3f70747c44a77c7bcd40155683ae19c65e1c03b4aa3499c5328201f1"
      }
    }
  },
  "nbformat": 4,
  "nbformat_minor": 0
}
