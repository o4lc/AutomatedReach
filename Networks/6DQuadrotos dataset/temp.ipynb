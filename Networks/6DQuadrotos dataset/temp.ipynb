{
 "cells": [
  {
   "cell_type": "code",
   "execution_count": 1,
   "outputs": [
    {
     "name": "stderr",
     "output_type": "stream",
     "text": [
      "`polytope` failed to import `cvxopt.glpk`.\n",
      "will use `scipy.optimize.linprog`\n"
     ]
    }
   ],
   "source": [
    "#!/usr/bin/env python3\n",
    "# -*- coding: utf-8 -*-\n",
    "\"\"\"\n",
    "Created on Mon Jun  1 17:45:41 2020\n",
    "\n",
    "@author: mahyarfazlyab\n",
    "\"\"\"\n",
    "\n",
    "# import sys\n",
    "# sys.path.append(\"../Python/\")\n",
    "\n",
    "import numpy as np\n",
    "import torch\n",
    "import torch.nn as nn\n",
    "import torch.optim as optim\n",
    "from scipy.io import loadmat\n",
    "import scipy.io\n",
    "import os\n",
    "import pickle\n",
    "import matplotlib.pyplot as plt\n",
    "from NeuralNetwork import NeuralNetwork\n",
    "\n",
    "\n",
    "\n",
    "def export2matlab(file_name, net, A, B, save_model=False):\n",
    "    '''\n",
    "    Export pytorch fully connected network to matlab\n",
    "\n",
    "    '''\n",
    "\n",
    "    num_layers = int((len(net) - 1) / 2)\n",
    "    dim_in = float(net[0].weight.shape[1])\n",
    "    dim_out = float(net[-1].weight.shape[0])\n",
    "    hidden_dims = [float(net[2 * i].weight.shape[0]) for i in range(0, num_layers)]\n",
    "\n",
    "    # network dimensions\n",
    "    dims = [dim_in] + hidden_dims + [dim_out]\n",
    "\n",
    "    # get weights\n",
    "    # weights = np.zeros((num_layers+1,))\n",
    "    weights = [net[2 * i].weight.detach().numpy().astype(np.float64) for i in range(0, num_layers + 1)]\n",
    "\n",
    "    # get biases\n",
    "    # biases = np.zeros((num_layers+1,))\n",
    "    biases = [net[2 * i].bias.detach().numpy().astype(np.float64).reshape(-1, 1) for i in range(0, num_layers + 1)]\n",
    "\n",
    "    activation = str(net[1])[0:-2].lower()\n",
    "\n",
    "    # export network data to matlab\n",
    "    data = {}\n",
    "    data['net'] = {'weights': weights, 'biases': biases, 'dims': dims, 'activation': activation, 'name': file_name}\n",
    "    data['AMatrix'] = A\n",
    "    data['BMatrix'] = B\n",
    "\n",
    "\n",
    "    scipy.io.savemat(file_name + '.mat', data)\n",
    "\n",
    "\n",
    "\n"
   ],
   "metadata": {
    "collapsed": false,
    "pycharm": {
     "name": "#%%\n"
    }
   }
  },
  {
   "cell_type": "code",
   "execution_count": 3,
   "outputs": [
    {
     "name": "stdout",
     "output_type": "stream",
     "text": [
      "epoch: 0 gamma 1\n",
      "validation losses average:  tensor(133.2823, device='cuda:0', grad_fn=<DivBackward0>)\n",
      "epoch: 0 gamma 0.9\n",
      "MSE loss:  12.071584701538086 , Norm of product: tensor(7.2511, device='cuda:0')\n",
      "epoch: 10 gamma 0.34867844010000015\n",
      "validation losses average:  tensor(4.3524, device='cuda:0', grad_fn=<DivBackward0>)\n",
      "epoch: 10 gamma 0.31381059609000017\n",
      "MSE loss:  4.203967571258545 , Norm of product: tensor(0.0150, device='cuda:0')\n",
      "epoch: 20 gamma 0.12157665459056936\n",
      "validation losses average:  tensor(4.3454, device='cuda:0', grad_fn=<DivBackward0>)\n",
      "epoch: 20 gamma 0.10941898913151243\n",
      "MSE loss:  4.389400959014893 , Norm of product: tensor(0.0001, device='cuda:0')\n",
      "epoch: 30 gamma 0.042391158275216244\n",
      "validation losses average:  tensor(4.3454, device='cuda:0', grad_fn=<DivBackward0>)\n",
      "epoch: 30 gamma 0.03815204244769462\n",
      "MSE loss:  3.9314870834350586 , Norm of product: tensor(0.0012, device='cuda:0')\n",
      "epoch: 40 gamma 0.014780882941434608\n",
      "validation losses average:  tensor(0.5372, device='cuda:0', grad_fn=<DivBackward0>)\n",
      "epoch: 40 gamma 0.013302794647291147\n",
      "MSE loss:  0.5138154625892639 , Norm of product: tensor(23.8516, device='cuda:0')\n",
      "epoch: 50 gamma 0.00515377520732012\n",
      "validation losses average:  tensor(0.2336, device='cuda:0', grad_fn=<DivBackward0>)\n",
      "epoch: 50 gamma 0.004638397686588107\n",
      "MSE loss:  0.23376180231571198 , Norm of product: tensor(19.6007, device='cuda:0')\n",
      "epoch: 60 gamma 0.0017970102999144335\n",
      "validation losses average:  tensor(0.1603, device='cuda:0', grad_fn=<DivBackward0>)\n",
      "epoch: 60 gamma 0.0016173092699229901\n",
      "MSE loss:  0.1517244428396225 , Norm of product: tensor(19.1602, device='cuda:0')\n",
      "epoch: 70 gamma 0.0006265787482177979\n",
      "validation losses average:  tensor(0.1335, device='cuda:0', grad_fn=<DivBackward0>)\n",
      "epoch: 70 gamma 0.0005639208733960181\n",
      "MSE loss:  0.1276707649230957 , Norm of product: tensor(19.7634, device='cuda:0')\n",
      "epoch: 80 gamma 0.00021847450052839252\n",
      "validation losses average:  tensor(0.1223, device='cuda:0', grad_fn=<DivBackward0>)\n",
      "epoch: 80 gamma 0.00019662705047555326\n",
      "MSE loss:  0.11059825867414474 , Norm of product: tensor(20.8917, device='cuda:0')\n",
      "epoch: 90 gamma 7.617734804586655e-05\n",
      "validation losses average:  tensor(0.1171, device='cuda:0', grad_fn=<DivBackward0>)\n",
      "epoch: 90 gamma 6.85596132412799e-05\n",
      "MSE loss:  0.09830795973539352 , Norm of product: tensor(22.2776, device='cuda:0')\n",
      "epoch: 100 gamma 2.6561398887587544e-05\n",
      "validation losses average:  tensor(0.1146, device='cuda:0', grad_fn=<DivBackward0>)\n",
      "epoch: 100 gamma 2.390525899882879e-05\n",
      "MSE loss:  0.11236047744750977 , Norm of product: tensor(23.6476, device='cuda:0')\n",
      "epoch: 110 gamma 9.261387130997904e-06\n",
      "validation losses average:  tensor(0.1126, device='cuda:0', grad_fn=<DivBackward0>)\n",
      "epoch: 110 gamma 8.335248417898115e-06\n",
      "MSE loss:  0.10654715448617935 , Norm of product: tensor(25.2536, device='cuda:0')\n",
      "epoch: 120 gamma 3.229246017998565e-06\n",
      "validation losses average:  tensor(0.0984, device='cuda:0', grad_fn=<DivBackward0>)\n",
      "epoch: 120 gamma 2.9063214161987086e-06\n",
      "MSE loss:  0.095345638692379 , Norm of product: tensor(32.1546, device='cuda:0')\n",
      "epoch: 130 gamma 1.1259684642548765e-06\n",
      "validation losses average:  tensor(0.0777, device='cuda:0', grad_fn=<DivBackward0>)\n",
      "epoch: 130 gamma 1.0133716178293888e-06\n",
      "MSE loss:  0.06138243153691292 , Norm of product: tensor(38.0436, device='cuda:0')\n",
      "epoch: 140 gamma 3.92600927718183e-07\n",
      "validation losses average:  tensor(0.0768, device='cuda:0', grad_fn=<DivBackward0>)\n",
      "epoch: 140 gamma 3.5334083494636473e-07\n",
      "MSE loss:  0.06861955672502518 , Norm of product: tensor(38.8085, device='cuda:0')\n",
      "epoch: 150 gamma 1.3689147905858892e-07\n",
      "validation losses average:  tensor(0.0758, device='cuda:0', grad_fn=<DivBackward0>)\n",
      "epoch: 150 gamma 1.2320233115273002e-07\n",
      "MSE loss:  0.07033328711986542 , Norm of product: tensor(39.7519, device='cuda:0')\n",
      "epoch: 160 gamma 4.7731107381130604e-08\n",
      "validation losses average:  tensor(0.0729, device='cuda:0', grad_fn=<DivBackward0>)\n",
      "epoch: 160 gamma 4.295799664301754e-08\n",
      "MSE loss:  0.061708852648735046 , Norm of product: tensor(41.8478, device='cuda:0')\n",
      "epoch: 170 gamma 1.6642808065898218e-08\n",
      "validation losses average:  tensor(0.0513, device='cuda:0', grad_fn=<DivBackward0>)\n",
      "epoch: 170 gamma 1.4978527259308396e-08\n",
      "MSE loss:  0.04152911901473999 , Norm of product: tensor(49.1499, device='cuda:0')\n",
      "epoch: 180 gamma 5.80298835530109e-09\n",
      "validation losses average:  tensor(0.0372, device='cuda:0', grad_fn=<DivBackward0>)\n",
      "epoch: 180 gamma 5.222689519770981e-09\n",
      "MSE loss:  0.03903229907155037 , Norm of product: tensor(54.5321, device='cuda:0')\n",
      "epoch: 190 gamma 2.0233769276448487e-09\n",
      "validation losses average:  tensor(0.0367, device='cuda:0', grad_fn=<DivBackward0>)\n",
      "epoch: 190 gamma 1.821039234880364e-09\n",
      "MSE loss:  0.0346316322684288 , Norm of product: tensor(55.3704, device='cuda:0')\n",
      "epoch: 200 gamma 7.055079108655365e-10\n",
      "validation losses average:  tensor(0.0362, device='cuda:0', grad_fn=<DivBackward0>)\n",
      "epoch: 200 gamma 6.349571197789829e-10\n",
      "MSE loss:  0.04873505234718323 , Norm of product: tensor(56.1301, device='cuda:0')\n",
      "epoch: 210 gamma 2.4599539783880517e-10\n",
      "validation losses average:  tensor(0.0355, device='cuda:0', grad_fn=<DivBackward0>)\n",
      "epoch: 210 gamma 2.2139585805492464e-10\n",
      "MSE loss:  0.031852949410676956 , Norm of product: tensor(57.0609, device='cuda:0')\n",
      "epoch: 220 gamma 8.577329159021353e-11\n",
      "validation losses average:  tensor(0.0344, device='cuda:0', grad_fn=<DivBackward0>)\n",
      "epoch: 220 gamma 7.719596243119218e-11\n",
      "MSE loss:  0.04209600389003754 , Norm of product: tensor(58.1124, device='cuda:0')\n",
      "epoch: 230 gamma 2.9907297513918106e-11\n",
      "validation losses average:  tensor(0.0330, device='cuda:0', grad_fn=<DivBackward0>)\n",
      "epoch: 230 gamma 2.6916567762526297e-11\n",
      "MSE loss:  0.03295423835515976 , Norm of product: tensor(59.2283, device='cuda:0')\n",
      "epoch: 240 gamma 1.0428029844759576e-11\n",
      "validation losses average:  tensor(0.0311, device='cuda:0', grad_fn=<DivBackward0>)\n",
      "epoch: 240 gamma 9.38522686028362e-12\n",
      "MSE loss:  0.026354225352406502 , Norm of product: tensor(60.3661, device='cuda:0')\n",
      "epoch: 250 gamma 3.6360291795870155e-12\n",
      "validation losses average:  tensor(0.0290, device='cuda:0', grad_fn=<DivBackward0>)\n",
      "epoch: 250 gamma 3.272426261628314e-12\n",
      "MSE loss:  0.026316940784454346 , Norm of product: tensor(61.4693, device='cuda:0')\n",
      "epoch: 260 gamma 1.2678049824964836e-12\n",
      "validation losses average:  tensor(0.0268, device='cuda:0', grad_fn=<DivBackward0>)\n",
      "epoch: 260 gamma 1.1410244842468353e-12\n",
      "MSE loss:  0.0273746307939291 , Norm of product: tensor(62.4865, device='cuda:0')\n",
      "epoch: 270 gamma 4.4205626364788173e-13\n",
      "validation losses average:  tensor(0.0246, device='cuda:0', grad_fn=<DivBackward0>)\n",
      "epoch: 270 gamma 3.9785063728309357e-13\n",
      "MSE loss:  0.03127012029290199 , Norm of product: tensor(63.4010, device='cuda:0')\n",
      "epoch: 280 gamma 1.541354884451778e-13\n",
      "validation losses average:  tensor(0.0225, device='cuda:0', grad_fn=<DivBackward0>)\n",
      "epoch: 280 gamma 1.3872193960066002e-13\n",
      "MSE loss:  0.02284700609743595 , Norm of product: tensor(64.1957, device='cuda:0')\n",
      "epoch: 290 gamma 5.374372167511618e-14\n",
      "validation losses average:  tensor(0.0207, device='cuda:0', grad_fn=<DivBackward0>)\n",
      "epoch: 290 gamma 4.836934950760456e-14\n",
      "MSE loss:  0.018601685762405396 , Norm of product: tensor(64.8762, device='cuda:0')\n",
      "epoch: 300 gamma 1.8739277038848075e-14\n",
      "validation losses average:  tensor(0.0192, device='cuda:0', grad_fn=<DivBackward0>)\n",
      "epoch: 300 gamma 1.6865349334963268e-14\n",
      "MSE loss:  0.02153787575662136 , Norm of product: tensor(65.4520, device='cuda:0')\n",
      "epoch: 310 gamma 6.5339818865072964e-15\n",
      "validation losses average:  tensor(0.0179, device='cuda:0', grad_fn=<DivBackward0>)\n",
      "epoch: 310 gamma 5.880583697856567e-15\n",
      "MSE loss:  0.019040316343307495 , Norm of product: tensor(65.9395, device='cuda:0')\n",
      "epoch: 320 gamma 2.2782586118290197e-15\n",
      "validation losses average:  tensor(0.0168, device='cuda:0', grad_fn=<DivBackward0>)\n",
      "epoch: 320 gamma 2.0504327506461177e-15\n",
      "MSE loss:  0.01420401968061924 , Norm of product: tensor(66.3433, device='cuda:0')\n",
      "epoch: 330 gamma 7.943796589169342e-16\n",
      "validation losses average:  tensor(0.0159, device='cuda:0', grad_fn=<DivBackward0>)\n",
      "epoch: 330 gamma 7.149416930252408e-16\n",
      "MSE loss:  0.014217674732208252 , Norm of product: tensor(66.6793, device='cuda:0')\n",
      "epoch: 340 gamma 2.7698306031832673e-16\n",
      "validation losses average:  tensor(0.0151, device='cuda:0', grad_fn=<DivBackward0>)\n",
      "epoch: 340 gamma 2.4928475428649406e-16\n",
      "MSE loss:  0.012306435033679008 , Norm of product: tensor(66.9578, device='cuda:0')\n",
      "epoch: 350 gamma 9.65780214059184e-17\n",
      "validation losses average:  tensor(0.0145, device='cuda:0', grad_fn=<DivBackward0>)\n",
      "epoch: 350 gamma 8.692021926532657e-17\n",
      "MSE loss:  0.016767330467700958 , Norm of product: tensor(67.1885, device='cuda:0')\n",
      "epoch: 360 gamma 3.367467385176005e-17\n",
      "validation losses average:  tensor(0.0140, device='cuda:0', grad_fn=<DivBackward0>)\n",
      "epoch: 360 gamma 3.0307206466584045e-17\n",
      "MSE loss:  0.016932105645537376 , Norm of product: tensor(67.3777, device='cuda:0')\n",
      "epoch: 370 gamma 1.1741632749507956e-17\n",
      "validation losses average:  tensor(0.0136, device='cuda:0', grad_fn=<DivBackward0>)\n",
      "epoch: 370 gamma 1.0567469474557161e-17\n",
      "MSE loss:  0.014849558472633362 , Norm of product: tensor(67.5321, device='cuda:0')\n",
      "epoch: 380 gamma 4.09405419132551e-18\n",
      "validation losses average:  tensor(0.0133, device='cuda:0', grad_fn=<DivBackward0>)\n",
      "epoch: 380 gamma 3.6846487721929585e-18\n",
      "MSE loss:  0.011599907651543617 , Norm of product: tensor(67.6620, device='cuda:0')\n",
      "epoch: 390 gamma 1.4275084291162459e-18\n",
      "validation losses average:  tensor(0.0130, device='cuda:0', grad_fn=<DivBackward0>)\n",
      "epoch: 390 gamma 1.2847575862046213e-18\n",
      "MSE loss:  0.012095811776816845 , Norm of product: tensor(67.7679, device='cuda:0')\n",
      "epoch: 400 gamma 4.977414122938543e-19\n",
      "validation losses average:  tensor(0.0128, device='cuda:0', grad_fn=<DivBackward0>)\n",
      "epoch: 400 gamma 4.479672710644689e-19\n",
      "MSE loss:  0.013186758384108543 , Norm of product: tensor(67.8550, device='cuda:0')\n",
      "epoch: 410 gamma 1.7355169921179214e-19\n",
      "validation losses average:  tensor(0.0126, device='cuda:0', grad_fn=<DivBackward0>)\n",
      "epoch: 410 gamma 1.5619652929061291e-19\n",
      "MSE loss:  0.01342108566313982 , Norm of product: tensor(67.9263, device='cuda:0')\n",
      "epoch: 420 gamma 6.051373575787208e-20\n",
      "validation losses average:  tensor(0.0124, device='cuda:0', grad_fn=<DivBackward0>)\n",
      "epoch: 420 gamma 5.446236218208488e-20\n",
      "MSE loss:  0.011256462894380093 , Norm of product: tensor(67.9838, device='cuda:0')\n",
      "epoch: 430 gamma 2.1099834988678436e-20\n",
      "validation losses average:  tensor(0.0123, device='cuda:0', grad_fn=<DivBackward0>)\n",
      "epoch: 430 gamma 1.8989851489810592e-20\n",
      "MSE loss:  0.011020015925168991 , Norm of product: tensor(68.0309, device='cuda:0')\n",
      "epoch: 440 gamma 7.3570575502198e-21\n",
      "validation losses average:  tensor(0.0122, device='cuda:0', grad_fn=<DivBackward0>)\n",
      "epoch: 440 gamma 6.62135179519782e-21\n",
      "MSE loss:  0.015030436217784882 , Norm of product: tensor(68.0716, device='cuda:0')\n",
      "epoch: 450 gamma 2.565247350336568e-21\n",
      "validation losses average:  tensor(0.0121, device='cuda:0', grad_fn=<DivBackward0>)\n",
      "epoch: 450 gamma 2.3087226153029112e-21\n",
      "MSE loss:  0.013228368945419788 , Norm of product: tensor(68.1042, device='cuda:0')\n"
     ]
    },
    {
     "ename": "KeyboardInterrupt",
     "evalue": "",
     "output_type": "error",
     "traceback": [
      "\u001B[0;31m---------------------------------------------------------------------------\u001B[0m",
      "\u001B[0;31mKeyboardInterrupt\u001B[0m                         Traceback (most recent call last)",
      "Cell \u001B[0;32mIn [3], line 97\u001B[0m\n\u001B[1;32m     95\u001B[0m     net\u001B[38;5;241m.\u001B[39meval()\n\u001B[1;32m     96\u001B[0m tempValidationLosses \u001B[38;5;241m=\u001B[39m []\n\u001B[0;32m---> 97\u001B[0m \u001B[38;5;28;01mfor\u001B[39;00m i, (X, Y) \u001B[38;5;129;01min\u001B[39;00m \u001B[38;5;28menumerate\u001B[39m(loaders[phase]):\n\u001B[1;32m     99\u001B[0m     X \u001B[38;5;241m=\u001B[39m X\u001B[38;5;241m.\u001B[39mto(device)\n\u001B[1;32m    100\u001B[0m     Y \u001B[38;5;241m=\u001B[39m Y\u001B[38;5;241m.\u001B[39mto(device)\n",
      "File \u001B[0;32m~/.local/lib/python3.8/site-packages/torch/utils/data/dataloader.py:530\u001B[0m, in \u001B[0;36m_BaseDataLoaderIter.__next__\u001B[0;34m(self)\u001B[0m\n\u001B[1;32m    528\u001B[0m \u001B[38;5;28;01mif\u001B[39;00m \u001B[38;5;28mself\u001B[39m\u001B[38;5;241m.\u001B[39m_sampler_iter \u001B[38;5;129;01mis\u001B[39;00m \u001B[38;5;28;01mNone\u001B[39;00m:\n\u001B[1;32m    529\u001B[0m     \u001B[38;5;28mself\u001B[39m\u001B[38;5;241m.\u001B[39m_reset()\n\u001B[0;32m--> 530\u001B[0m data \u001B[38;5;241m=\u001B[39m \u001B[38;5;28;43mself\u001B[39;49m\u001B[38;5;241;43m.\u001B[39;49m\u001B[43m_next_data\u001B[49m\u001B[43m(\u001B[49m\u001B[43m)\u001B[49m\n\u001B[1;32m    531\u001B[0m \u001B[38;5;28mself\u001B[39m\u001B[38;5;241m.\u001B[39m_num_yielded \u001B[38;5;241m+\u001B[39m\u001B[38;5;241m=\u001B[39m \u001B[38;5;241m1\u001B[39m\n\u001B[1;32m    532\u001B[0m \u001B[38;5;28;01mif\u001B[39;00m \u001B[38;5;28mself\u001B[39m\u001B[38;5;241m.\u001B[39m_dataset_kind \u001B[38;5;241m==\u001B[39m _DatasetKind\u001B[38;5;241m.\u001B[39mIterable \u001B[38;5;129;01mand\u001B[39;00m \\\n\u001B[1;32m    533\u001B[0m         \u001B[38;5;28mself\u001B[39m\u001B[38;5;241m.\u001B[39m_IterableDataset_len_called \u001B[38;5;129;01mis\u001B[39;00m \u001B[38;5;129;01mnot\u001B[39;00m \u001B[38;5;28;01mNone\u001B[39;00m \u001B[38;5;129;01mand\u001B[39;00m \\\n\u001B[1;32m    534\u001B[0m         \u001B[38;5;28mself\u001B[39m\u001B[38;5;241m.\u001B[39m_num_yielded \u001B[38;5;241m>\u001B[39m \u001B[38;5;28mself\u001B[39m\u001B[38;5;241m.\u001B[39m_IterableDataset_len_called:\n",
      "File \u001B[0;32m~/.local/lib/python3.8/site-packages/torch/utils/data/dataloader.py:1196\u001B[0m, in \u001B[0;36m_MultiProcessingDataLoaderIter._next_data\u001B[0;34m(self)\u001B[0m\n\u001B[1;32m   1193\u001B[0m \u001B[38;5;28;01melse\u001B[39;00m:\n\u001B[1;32m   1194\u001B[0m     \u001B[38;5;66;03m# no valid `self._rcvd_idx` is found (i.e., didn't break)\u001B[39;00m\n\u001B[1;32m   1195\u001B[0m     \u001B[38;5;28;01mif\u001B[39;00m \u001B[38;5;129;01mnot\u001B[39;00m \u001B[38;5;28mself\u001B[39m\u001B[38;5;241m.\u001B[39m_persistent_workers:\n\u001B[0;32m-> 1196\u001B[0m         \u001B[38;5;28;43mself\u001B[39;49m\u001B[38;5;241;43m.\u001B[39;49m\u001B[43m_shutdown_workers\u001B[49m\u001B[43m(\u001B[49m\u001B[43m)\u001B[49m\n\u001B[1;32m   1197\u001B[0m     \u001B[38;5;28;01mraise\u001B[39;00m \u001B[38;5;167;01mStopIteration\u001B[39;00m\n\u001B[1;32m   1199\u001B[0m \u001B[38;5;66;03m# Now `self._rcvd_idx` is the batch index we want to fetch\u001B[39;00m\n\u001B[1;32m   1200\u001B[0m \n\u001B[1;32m   1201\u001B[0m \u001B[38;5;66;03m# Check if the next sample has already been generated\u001B[39;00m\n",
      "File \u001B[0;32m~/.local/lib/python3.8/site-packages/torch/utils/data/dataloader.py:1322\u001B[0m, in \u001B[0;36m_MultiProcessingDataLoaderIter._shutdown_workers\u001B[0;34m(self)\u001B[0m\n\u001B[1;32m   1317\u001B[0m         \u001B[38;5;28mself\u001B[39m\u001B[38;5;241m.\u001B[39m_mark_worker_as_unavailable(worker_id, shutdown\u001B[38;5;241m=\u001B[39m\u001B[38;5;28;01mTrue\u001B[39;00m)\n\u001B[1;32m   1318\u001B[0m \u001B[38;5;28;01mfor\u001B[39;00m w \u001B[38;5;129;01min\u001B[39;00m \u001B[38;5;28mself\u001B[39m\u001B[38;5;241m.\u001B[39m_workers:\n\u001B[1;32m   1319\u001B[0m     \u001B[38;5;66;03m# We should be able to join here, but in case anything went\u001B[39;00m\n\u001B[1;32m   1320\u001B[0m     \u001B[38;5;66;03m# wrong, we set a timeout and if the workers fail to join,\u001B[39;00m\n\u001B[1;32m   1321\u001B[0m     \u001B[38;5;66;03m# they are killed in the `finally` block.\u001B[39;00m\n\u001B[0;32m-> 1322\u001B[0m     \u001B[43mw\u001B[49m\u001B[38;5;241;43m.\u001B[39;49m\u001B[43mjoin\u001B[49m\u001B[43m(\u001B[49m\u001B[43mtimeout\u001B[49m\u001B[38;5;241;43m=\u001B[39;49m\u001B[43m_utils\u001B[49m\u001B[38;5;241;43m.\u001B[39;49m\u001B[43mMP_STATUS_CHECK_INTERVAL\u001B[49m\u001B[43m)\u001B[49m\n\u001B[1;32m   1323\u001B[0m \u001B[38;5;28;01mfor\u001B[39;00m q \u001B[38;5;129;01min\u001B[39;00m \u001B[38;5;28mself\u001B[39m\u001B[38;5;241m.\u001B[39m_index_queues:\n\u001B[1;32m   1324\u001B[0m     q\u001B[38;5;241m.\u001B[39mcancel_join_thread()\n",
      "File \u001B[0;32m/usr/lib/python3.8/multiprocessing/process.py:149\u001B[0m, in \u001B[0;36mBaseProcess.join\u001B[0;34m(self, timeout)\u001B[0m\n\u001B[1;32m    147\u001B[0m \u001B[38;5;28;01massert\u001B[39;00m \u001B[38;5;28mself\u001B[39m\u001B[38;5;241m.\u001B[39m_parent_pid \u001B[38;5;241m==\u001B[39m os\u001B[38;5;241m.\u001B[39mgetpid(), \u001B[38;5;124m'\u001B[39m\u001B[38;5;124mcan only join a child process\u001B[39m\u001B[38;5;124m'\u001B[39m\n\u001B[1;32m    148\u001B[0m \u001B[38;5;28;01massert\u001B[39;00m \u001B[38;5;28mself\u001B[39m\u001B[38;5;241m.\u001B[39m_popen \u001B[38;5;129;01mis\u001B[39;00m \u001B[38;5;129;01mnot\u001B[39;00m \u001B[38;5;28;01mNone\u001B[39;00m, \u001B[38;5;124m'\u001B[39m\u001B[38;5;124mcan only join a started process\u001B[39m\u001B[38;5;124m'\u001B[39m\n\u001B[0;32m--> 149\u001B[0m res \u001B[38;5;241m=\u001B[39m \u001B[38;5;28;43mself\u001B[39;49m\u001B[38;5;241;43m.\u001B[39;49m\u001B[43m_popen\u001B[49m\u001B[38;5;241;43m.\u001B[39;49m\u001B[43mwait\u001B[49m\u001B[43m(\u001B[49m\u001B[43mtimeout\u001B[49m\u001B[43m)\u001B[49m\n\u001B[1;32m    150\u001B[0m \u001B[38;5;28;01mif\u001B[39;00m res \u001B[38;5;129;01mis\u001B[39;00m \u001B[38;5;129;01mnot\u001B[39;00m \u001B[38;5;28;01mNone\u001B[39;00m:\n\u001B[1;32m    151\u001B[0m     _children\u001B[38;5;241m.\u001B[39mdiscard(\u001B[38;5;28mself\u001B[39m)\n",
      "File \u001B[0;32m/usr/lib/python3.8/multiprocessing/popen_fork.py:44\u001B[0m, in \u001B[0;36mPopen.wait\u001B[0;34m(self, timeout)\u001B[0m\n\u001B[1;32m     42\u001B[0m \u001B[38;5;28;01mif\u001B[39;00m timeout \u001B[38;5;129;01mis\u001B[39;00m \u001B[38;5;129;01mnot\u001B[39;00m \u001B[38;5;28;01mNone\u001B[39;00m:\n\u001B[1;32m     43\u001B[0m     \u001B[38;5;28;01mfrom\u001B[39;00m \u001B[38;5;21;01mmultiprocessing\u001B[39;00m\u001B[38;5;21;01m.\u001B[39;00m\u001B[38;5;21;01mconnection\u001B[39;00m \u001B[38;5;28;01mimport\u001B[39;00m wait\n\u001B[0;32m---> 44\u001B[0m     \u001B[38;5;28;01mif\u001B[39;00m \u001B[38;5;129;01mnot\u001B[39;00m \u001B[43mwait\u001B[49m\u001B[43m(\u001B[49m\u001B[43m[\u001B[49m\u001B[38;5;28;43mself\u001B[39;49m\u001B[38;5;241;43m.\u001B[39;49m\u001B[43msentinel\u001B[49m\u001B[43m]\u001B[49m\u001B[43m,\u001B[49m\u001B[43m \u001B[49m\u001B[43mtimeout\u001B[49m\u001B[43m)\u001B[49m:\n\u001B[1;32m     45\u001B[0m         \u001B[38;5;28;01mreturn\u001B[39;00m \u001B[38;5;28;01mNone\u001B[39;00m\n\u001B[1;32m     46\u001B[0m \u001B[38;5;66;03m# This shouldn't block if wait() returned successfully.\u001B[39;00m\n",
      "File \u001B[0;32m/usr/lib/python3.8/multiprocessing/connection.py:931\u001B[0m, in \u001B[0;36mwait\u001B[0;34m(object_list, timeout)\u001B[0m\n\u001B[1;32m    928\u001B[0m     deadline \u001B[38;5;241m=\u001B[39m time\u001B[38;5;241m.\u001B[39mmonotonic() \u001B[38;5;241m+\u001B[39m timeout\n\u001B[1;32m    930\u001B[0m \u001B[38;5;28;01mwhile\u001B[39;00m \u001B[38;5;28;01mTrue\u001B[39;00m:\n\u001B[0;32m--> 931\u001B[0m     ready \u001B[38;5;241m=\u001B[39m \u001B[43mselector\u001B[49m\u001B[38;5;241;43m.\u001B[39;49m\u001B[43mselect\u001B[49m\u001B[43m(\u001B[49m\u001B[43mtimeout\u001B[49m\u001B[43m)\u001B[49m\n\u001B[1;32m    932\u001B[0m     \u001B[38;5;28;01mif\u001B[39;00m ready:\n\u001B[1;32m    933\u001B[0m         \u001B[38;5;28;01mreturn\u001B[39;00m [key\u001B[38;5;241m.\u001B[39mfileobj \u001B[38;5;28;01mfor\u001B[39;00m (key, events) \u001B[38;5;129;01min\u001B[39;00m ready]\n",
      "File \u001B[0;32m/usr/lib/python3.8/selectors.py:415\u001B[0m, in \u001B[0;36m_PollLikeSelector.select\u001B[0;34m(self, timeout)\u001B[0m\n\u001B[1;32m    413\u001B[0m ready \u001B[38;5;241m=\u001B[39m []\n\u001B[1;32m    414\u001B[0m \u001B[38;5;28;01mtry\u001B[39;00m:\n\u001B[0;32m--> 415\u001B[0m     fd_event_list \u001B[38;5;241m=\u001B[39m \u001B[38;5;28;43mself\u001B[39;49m\u001B[38;5;241;43m.\u001B[39;49m\u001B[43m_selector\u001B[49m\u001B[38;5;241;43m.\u001B[39;49m\u001B[43mpoll\u001B[49m\u001B[43m(\u001B[49m\u001B[43mtimeout\u001B[49m\u001B[43m)\u001B[49m\n\u001B[1;32m    416\u001B[0m \u001B[38;5;28;01mexcept\u001B[39;00m \u001B[38;5;167;01mInterruptedError\u001B[39;00m:\n\u001B[1;32m    417\u001B[0m     \u001B[38;5;28;01mreturn\u001B[39;00m ready\n",
      "\u001B[0;31mKeyboardInterrupt\u001B[0m: "
     ]
    }
   ],
   "source": [
    "device = torch.device(\"cpu\")\n",
    "if torch.cuda.is_available():\n",
    "    device = torch.device(\"cuda:0\")\n",
    "\n",
    "trainCompleteLoop = True\n",
    "# with open('xs.pkl', 'rb') as f:\n",
    "#     Xtrain = pickle.load(f)\n",
    "#\n",
    "# with open('us.pkl', 'rb') as f:\n",
    "#     Ytrain = pickle.load(f)\n",
    "\n",
    "data = loadmat(\"trainDataQuad.mat\")\n",
    "XFull = data['X']\n",
    "YFull = data['y']\n",
    "# data = loadmat(\"quadRotorTrainData.mat\")\n",
    "# Xtrain = data['Xtrain']\n",
    "# Ytrain = data['Ytrain']\n",
    "# A = data['A']\n",
    "# B = data['B']\n",
    "if True:\n",
    "    A = np.zeros((6, 6), dtype=np.float32)\n",
    "    A[0, 3] = 1.\n",
    "    A[1, 4] = 1\n",
    "    A[2, 5] = 1\n",
    "\n",
    "    B = np.zeros((6, 3), dtype=np.float32)\n",
    "    B[3, 0] =  9.8\n",
    "    B[4, 1] = -9.8\n",
    "    B[5, 2] =  1\n",
    "\n",
    "    C = np.zeros((6, 1), dtype=np.float32)\n",
    "    C[5] = -9.8\n",
    "\n",
    "    A = np.eye(6) + A * 0.1\n",
    "    B = B * 0.1\n",
    "    C = C * 0.1\n",
    "\n",
    "else:\n",
    "    A = np.array([[1, 1], [0, 1]])\n",
    "    B = np.array([[0.5], [1]])\n",
    "lastDim = 3\n",
    "if trainCompleteLoop:\n",
    "    YFull = (A @ XFull.T + B @ YFull.T + C).T\n",
    "    lastDim = 6\n",
    "\n",
    "# print(torch.linalg.norm(torch.Tensor(B)), torch.linalg.norm(torch.Tensor(A)))\n",
    "# raise\n",
    "# print(A)\n",
    "# print(B)\n",
    "# print(Xtrain.shape)\n",
    "# print(Ytrain.shape)\n",
    "dataSplit = 0.9\n",
    "trainSize = int(dataSplit * XFull.shape[0])\n",
    "\n",
    "trainset, testSet = torch.utils.data.random_split(torch.utils.data.TensorDataset(torch.Tensor(XFull), torch.Tensor(YFull)), [trainSize, XFull.shape[0] - trainSize])\n",
    "\n",
    "net = nn.Sequential(\n",
    "    nn.Linear(6, 64),\n",
    "    nn.ReLU(),\n",
    "    nn.Linear(64, 64),\n",
    "    nn.ReLU(),\n",
    "    nn.Linear(64, 64),\n",
    "    nn.ReLU(),\n",
    "    nn.Linear(64, lastDim))\n",
    "numberOfLayers = (len(net) + 1) // 2\n",
    "net.to(device)\n",
    "train_batch_size = 128\n",
    "trainloader = torch.utils.data.DataLoader(trainset, batch_size=train_batch_size, shuffle=True,\n",
    "                                          num_workers=2)\n",
    "testLoader = torch.utils.data.DataLoader(testSet, batch_size=train_batch_size, num_workers=2)\n",
    "epoch = 1000\n",
    "net.train()\n",
    "trainLosses = []\n",
    "validationLosses = []\n",
    "gamma = 1\n",
    "def my_loss(output, target):\n",
    "    prod = torch.linalg.norm(net[0].weight)\n",
    "    for i in range(1, numberOfLayers):\n",
    "        prod *= torch.linalg.norm(net[2 * i].weight)\n",
    "    loss = torch.mean((output - target)**2) + gamma * prod\n",
    "    return loss\n",
    "bestStateDic = None\n",
    "bestLoss = 100000\n",
    "criterion = my_loss\n",
    "optimizer = optim.Adam(net.parameters(), lr=1e-3)\n",
    "scheduler = optim.lr_scheduler.ExponentialLR(optimizer, gamma=0.98)\n",
    "\n",
    "lambdaVal = torch.Tensor([2]).to(device)\n",
    "loaders = {\"train\": trainloader, \"eval\": testLoader}\n",
    "for t in range(epoch):\n",
    "    for phase in {\"train\", 'eval'}:\n",
    "        if phase == \"train\":\n",
    "            net.train()\n",
    "        else:\n",
    "            net.eval()\n",
    "        tempValidationLosses = []\n",
    "        for i, (X, Y) in enumerate(loaders[phase]):\n",
    "\n",
    "            X = X.to(device)\n",
    "            Y = Y.to(device)\n",
    "            out = net(X)\n",
    "            loss = criterion(out, Y)\n",
    "\n",
    "            if phase == \"train\":\n",
    "                loss.backward()\n",
    "                optimizer.step()\n",
    "\n",
    "                with torch.no_grad():\n",
    "                    optimizer.zero_grad()\n",
    "                    # for i in [0, 2, 4]:\n",
    "                    #     net[i].weight /= torch.maximum(torch.tensor([1.]).to(device), (torch.linalg.norm(net[i].weight) / lambdaVal))\n",
    "            else:\n",
    "                tempValidationLosses.append(loss)\n",
    "                if loss < bestLoss:\n",
    "                    bestLoss = loss\n",
    "                    bestStateDic = net.state_dict()\n",
    "                    torch.save(bestStateDic, \"tempBestStateDict.pth\")\n",
    "        if phase == \"train\":\n",
    "            scheduler.step()\n",
    "            gamma *= 0.9\n",
    "            trainLosses.append(loss.item())\n",
    "        else:\n",
    "            validationLosses.append(sum(tempValidationLosses[:-1]) / (len(tempValidationLosses) - 1))\n",
    "        if np.mod(t, 10) == 0:\n",
    "            print(\"epoch:\", t, \"gamma\", gamma)\n",
    "            if phase == \"train\":\n",
    "                with torch.no_grad():\n",
    "                    prod = torch.linalg.norm(net[0].weight)\n",
    "                    for i in range(1, numberOfLayers):\n",
    "                        prod *= torch.linalg.norm(net[2 * i].weight)\n",
    "                    print('MSE loss: ', loss.item(), \", Norm of product:\", prod)\n",
    "            else:\n",
    "                print(\"validation losses average: \", validationLosses[-1])\n",
    "\n",
    "\n",
    "\n",
    "\n"
   ],
   "metadata": {
    "collapsed": false,
    "pycharm": {
     "name": "#%%\n"
    }
   }
  },
  {
   "cell_type": "code",
   "execution_count": 4,
   "outputs": [
    {
     "data": {
      "text/plain": "(4.695100736618042, 4.74815182685852, 4.672193026542663, 4.703937554359436)"
     },
     "execution_count": 4,
     "metadata": {},
     "output_type": "execute_result"
    },
    {
     "data": {
      "text/plain": "<Figure size 640x480 with 1 Axes>",
      "image/png": "[encoded data removed]"
     },
     "metadata": {},
     "output_type": "display_data"
    }
   ],
   "source": [
    "dim = 6\n",
    "device = torch.device(\"cpu\")\n",
    "net.to(device)\n",
    "lowerCoordinate = torch.Tensor([4.6975, 4.6975, 2.9975, 0.9499, -0.0001, -0.0001]).to(device)\n",
    "upperCoordinate = torch.Tensor([4.7025, 4.7025 ,3.0025, 0.9501,  0.0001,  0.0001 ]).to(device)\n",
    "inputData = (upperCoordinate - lowerCoordinate) * torch.rand(1000, dim, device=device) \\\n",
    "                                                        + lowerCoordinate\n",
    "plt.scatter(inputData[:, 0], inputData[:, 1], marker='.', label='Initial', alpha=0.5)\n",
    "outputData = net(inputData).detach().cpu().numpy()\n",
    "plt.scatter(outputData[:, 0], outputData[:, 1], marker='.', label='Initial', alpha=0.5)\n",
    "plt.axis(\"equal\")"
   ],
   "metadata": {
    "collapsed": false,
    "pycharm": {
     "name": "#%%\n"
    }
   }
  },
  {
   "cell_type": "code",
   "execution_count": 4,
   "outputs": [
    {
     "data": {
      "text/plain": "<All keys matched successfully>"
     },
     "execution_count": 4,
     "metadata": {},
     "output_type": "execute_result"
    }
   ],
   "source": [
    "device = torch.device(\"cpu\")\n",
    "if torch.cuda.is_available():\n",
    "    device = torch.device(\"cuda:0\")\n",
    "\n",
    "lastDim = 6\n",
    "net = nn.Sequential(\n",
    "    nn.Linear(6, 64),\n",
    "    nn.ReLU(),\n",
    "    nn.Linear(64, 64),\n",
    "    nn.ReLU(),\n",
    "    nn.Linear(64, 64),\n",
    "    nn.ReLU(),\n",
    "    nn.Linear(64, lastDim))\n",
    "\n",
    "net.to(device)\n",
    "net.load_state_dict(torch.load(\"tempBestStateDict.pth\"))"
   ],
   "metadata": {
    "collapsed": false,
    "pycharm": {
     "name": "#%%\n"
    }
   }
  },
  {
   "cell_type": "code",
   "execution_count": 2,
   "outputs": [],
   "source": [
    "trainCompleteLoop = True"
   ],
   "metadata": {
    "collapsed": false,
    "pycharm": {
     "name": "#%%\n"
    }
   }
  },
  {
   "cell_type": "code",
   "execution_count": 9,
   "outputs": [],
   "source": [
    "print(\"best loss: \", bestLoss)\n",
    "net.load_state_dict(bestStateDic)\n",
    "layers = []\n",
    "dimensions = [net[0].weight.shape[1]]\n",
    "# for i in range(len(net)):\n",
    "#     if i % 2 == 0:\n",
    "#         dimensions.append(net[i].weight.shape[0])\n",
    "# for i in range(len(dimensions) - 1):\n",
    "#     layers.append(nn.Linear(dimensions[i], dimensions[i + 1]))\n",
    "#     if i < len(dimensions) - 2:\n",
    "#         layers.append(nn.ReLU())\n",
    "# network = nn.Sequential(*layers)\n",
    "networkClass = NeuralNetwork(\"../randomNetwork.pth\")\n",
    "\n",
    "networkClass.Linear = net\n",
    "if trainCompleteLoop:\n",
    "    torch.save(networkClass.state_dict(), \"../quadRotorFullLoopV1.1.pth\")\n",
    "else:\n",
    "    torch.save(networkClass.state_dict(), \"../quadRotorNormalV1.1.pth\")"
   ],
   "metadata": {
    "collapsed": false,
    "pycharm": {
     "name": "#%%\n"
    }
   }
  },
  {
   "cell_type": "code",
   "execution_count": null,
   "outputs": [],
   "source": [
    "plt.plot(trainLosses)\n",
    "plt.plot([validationLoss.item() for validationLoss in validationLosses])\n",
    "plt.legend([\"train loss\", \"validation loss\"])"
   ],
   "metadata": {
    "collapsed": false,
    "pycharm": {
     "name": "#%%\n"
    }
   }
  },
  {
   "cell_type": "code",
   "execution_count": null,
   "outputs": [],
   "source": [],
   "metadata": {
    "collapsed": false,
    "pycharm": {
     "name": "#%%\n"
    }
   }
  },
  {
   "cell_type": "code",
   "execution_count": 3,
   "outputs": [
    {
     "data": {
      "text/plain": "7"
     },
     "execution_count": 3,
     "metadata": {},
     "output_type": "execute_result"
    }
   ],
   "source": [],
   "metadata": {
    "collapsed": false,
    "pycharm": {
     "name": "#%%\n"
    }
   }
  },
  {
   "cell_type": "code",
   "execution_count": 13,
   "metadata": {
    "pycharm": {
     "name": "#%%\n"
    }
   },
   "outputs": [
    {
     "data": {
      "text/plain": "(11457, 6)"
     },
     "execution_count": 13,
     "metadata": {},
     "output_type": "execute_result"
    }
   ],
   "source": []
  }
 ],
 "metadata": {
  "kernelspec": {
   "display_name": "Python 3.8.10 64-bit",
   "language": "python",
   "name": "python3"
  },
  "language_info": {
   "codemirror_mode": {
    "name": "ipython",
    "version": 3
   },
   "file_extension": ".py",
   "mimetype": "text/x-python",
   "name": "python",
   "nbconvert_exporter": "python",
   "pygments_lexer": "ipython3",
   "version": "3.8.10"
  },
  "orig_nbformat": 4,
  "vscode": {
   "interpreter": {
    "hash": "916dbcbb3f70747c44a77c7bcd40155683ae19c65e1c03b4aa3499c5328201f1"
   }
  }
 },
 "nbformat": 4,
 "nbformat_minor": 2
}