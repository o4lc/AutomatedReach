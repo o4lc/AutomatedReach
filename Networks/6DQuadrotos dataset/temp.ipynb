{
 "cells": [
  {
   "cell_type": "code",
   "execution_count": 7,
   "metadata": {
    "pycharm": {
     "name": "#%%\n"
    }
   },
   "outputs": [
    {
     "name": "stderr",
     "output_type": "stream",
     "text": [
      "`polytope` failed to import `cvxopt.glpk`.\n",
      "will use `scipy.optimize.linprog`\n"
     ]
    }
   ],
   "source": [
    "#!/usr/bin/env python3\n",
    "# -*- coding: utf-8 -*-\n",
    "\"\"\"\n",
    "Created on Mon Jun  1 17:45:41 2020\n",
    "\n",
    "@author: mahyarfazlyab\n",
    "\"\"\"\n",
    "\n",
    "# import sys\n",
    "# sys.path.append(\"../Python/\")\n",
    "\n",
    "import numpy as np\n",
    "import torch\n",
    "import torch.nn as nn\n",
    "import torch.optim as optim\n",
    "from scipy.io import loadmat\n",
    "import scipy.io\n",
    "import os\n",
    "import pickle\n",
    "import matplotlib.pyplot as plt\n",
    "from NeuralNetwork import NeuralNetwork\n",
    "\n",
    "\n",
    "\n",
    "def export2matlab(file_name, net, A, B, save_model=False):\n",
    "    '''\n",
    "    Export pytorch fully connected network to matlab\n",
    "\n",
    "    '''\n",
    "\n",
    "    num_layers = int((len(net) - 1) / 2)\n",
    "    dim_in = float(net[0].weight.shape[1])\n",
    "    dim_out = float(net[-1].weight.shape[0])\n",
    "    hidden_dims = [float(net[2 * i].weight.shape[0]) for i in range(0, num_layers)]\n",
    "\n",
    "    # network dimensions\n",
    "    dims = [dim_in] + hidden_dims + [dim_out]\n",
    "\n",
    "    # get weights\n",
    "    # weights = np.zeros((num_layers+1,))\n",
    "    weights = [net[2 * i].weight.detach().numpy().astype(np.float64) for i in range(0, num_layers + 1)]\n",
    "\n",
    "    # get biases\n",
    "    # biases = np.zeros((num_layers+1,))\n",
    "    biases = [net[2 * i].bias.detach().numpy().astype(np.float64).reshape(-1, 1) for i in range(0, num_layers + 1)]\n",
    "\n",
    "    activation = str(net[1])[0:-2].lower()\n",
    "\n",
    "    # export network data to matlab\n",
    "    data = {}\n",
    "    data['net'] = {'weights': weights, 'biases': biases, 'dims': dims, 'activation': activation, 'name': file_name}\n",
    "    data['AMatrix'] = A\n",
    "    data['BMatrix'] = B\n",
    "\n",
    "    scipy.io.savemat(file_name + '.mat', data)\n",
    "\n",
    "\n",
    "\n"
   ]
  },
  {
   "cell_type": "code",
   "execution_count": null,
   "metadata": {
    "pycharm": {
     "name": "#%%\n",
     "is_executing": true
    }
   },
   "outputs": [
    {
     "name": "stdout",
     "output_type": "stream",
     "text": [
      "epoch:  0 MSE loss:  3.3264613151550293\n",
      "tensor(1.0000, grad_fn=<MulBackward0>)\n",
      "epoch:  10 MSE loss:  3.0668301582336426\n",
      "tensor(1.0000, grad_fn=<MulBackward0>)\n",
      "epoch:  20 MSE loss:  3.0031557083129883\n",
      "tensor(1.0000, grad_fn=<MulBackward0>)\n",
      "epoch:  30 MSE loss:  2.754281759262085\n",
      "tensor(1.0000, grad_fn=<MulBackward0>)\n",
      "epoch:  40 MSE loss:  2.663555383682251\n",
      "tensor(1.0000, grad_fn=<MulBackward0>)\n",
      "epoch:  50 MSE loss:  2.5010974407196045\n",
      "tensor(1.0000, grad_fn=<MulBackward0>)\n",
      "epoch:  60 MSE loss:  2.8811023235321045\n",
      "tensor(1.0000, grad_fn=<MulBackward0>)\n",
      "epoch:  70 MSE loss:  2.7055563926696777\n",
      "tensor(1.0000, grad_fn=<MulBackward0>)\n",
      "epoch:  80 MSE loss:  3.2778189182281494\n",
      "tensor(1.0000, grad_fn=<MulBackward0>)\n",
      "epoch:  90 MSE loss:  2.5856032371520996\n",
      "tensor(1.0000, grad_fn=<MulBackward0>)\n",
      "epoch:  100 MSE loss:  2.9646337032318115\n",
      "tensor(1., grad_fn=<MulBackward0>)\n",
      "epoch:  110 MSE loss:  2.6435062885284424\n",
      "tensor(1., grad_fn=<MulBackward0>)\n",
      "epoch:  120 MSE loss:  2.8176496028900146\n",
      "tensor(1.0000, grad_fn=<MulBackward0>)\n",
      "epoch:  130 MSE loss:  2.88324236869812\n",
      "tensor(1., grad_fn=<MulBackward0>)\n",
      "epoch:  140 MSE loss:  2.5933821201324463\n",
      "tensor(1., grad_fn=<MulBackward0>)\n",
      "epoch:  150 MSE loss:  2.43424129486084\n",
      "tensor(1., grad_fn=<MulBackward0>)\n",
      "epoch:  160 MSE loss:  2.8818931579589844\n",
      "tensor(1., grad_fn=<MulBackward0>)\n",
      "epoch:  170 MSE loss:  2.6224894523620605\n",
      "tensor(1., grad_fn=<MulBackward0>)\n",
      "epoch:  180 MSE loss:  2.7267279624938965\n",
      "tensor(1., grad_fn=<MulBackward0>)\n",
      "epoch:  190 MSE loss:  2.779829263687134\n",
      "tensor(1., grad_fn=<MulBackward0>)\n",
      "epoch:  200 MSE loss:  2.9893414974212646\n",
      "tensor(1., grad_fn=<MulBackward0>)\n",
      "epoch:  210 MSE loss:  2.822333335876465\n",
      "tensor(1., grad_fn=<MulBackward0>)\n",
      "epoch:  220 MSE loss:  2.61187744140625\n",
      "tensor(1., grad_fn=<MulBackward0>)\n",
      "epoch:  230 MSE loss:  2.6811347007751465\n",
      "tensor(1., grad_fn=<MulBackward0>)\n",
      "epoch:  240 MSE loss:  2.9775807857513428\n",
      "tensor(1., grad_fn=<MulBackward0>)\n",
      "epoch:  250 MSE loss:  2.5291950702667236\n",
      "tensor(1., grad_fn=<MulBackward0>)\n",
      "epoch:  260 MSE loss:  2.8919944763183594\n",
      "tensor(1., grad_fn=<MulBackward0>)\n",
      "epoch:  270 MSE loss:  2.614957094192505\n",
      "tensor(1., grad_fn=<MulBackward0>)\n",
      "epoch:  280 MSE loss:  2.958862543106079\n",
      "tensor(1., grad_fn=<MulBackward0>)\n",
      "epoch:  290 MSE loss:  2.6377594470977783\n",
      "tensor(1., grad_fn=<MulBackward0>)\n",
      "epoch:  300 MSE loss:  2.5243992805480957\n",
      "tensor(1., grad_fn=<MulBackward0>)\n",
      "epoch:  310 MSE loss:  2.7031421661376953\n",
      "tensor(1., grad_fn=<MulBackward0>)\n",
      "epoch:  320 MSE loss:  2.731903314590454\n",
      "tensor(1., grad_fn=<MulBackward0>)\n",
      "epoch:  330 MSE loss:  2.762221336364746\n",
      "tensor(1., grad_fn=<MulBackward0>)\n",
      "epoch:  340 MSE loss:  2.6730966567993164\n",
      "tensor(1., grad_fn=<MulBackward0>)\n",
      "epoch:  350 MSE loss:  2.4754483699798584\n",
      "tensor(1., grad_fn=<MulBackward0>)\n",
      "epoch:  360 MSE loss:  2.859522819519043\n",
      "tensor(1., grad_fn=<MulBackward0>)\n",
      "epoch:  370 MSE loss:  2.6168406009674072\n",
      "tensor(1., grad_fn=<MulBackward0>)\n",
      "epoch:  380 MSE loss:  2.8903205394744873\n",
      "tensor(1., grad_fn=<MulBackward0>)\n",
      "epoch:  390 MSE loss:  2.879361867904663\n",
      "tensor(1., grad_fn=<MulBackward0>)\n",
      "epoch:  400 MSE loss:  2.9159483909606934\n",
      "tensor(1., grad_fn=<MulBackward0>)\n",
      "epoch:  410 MSE loss:  2.956260919570923\n",
      "tensor(1., grad_fn=<MulBackward0>)\n",
      "epoch:  420 MSE loss:  2.699455738067627\n",
      "tensor(1., grad_fn=<MulBackward0>)\n",
      "epoch:  430 MSE loss:  2.7437801361083984\n",
      "tensor(1., grad_fn=<MulBackward0>)\n",
      "epoch:  440 MSE loss:  2.806009292602539\n",
      "tensor(1., grad_fn=<MulBackward0>)\n"
     ]
    }
   ],
   "source": [
    "\n",
    "trainCompleteLoop = True\n",
    "# with open('xs.pkl', 'rb') as f:\n",
    "#     Xtrain = pickle.load(f)\n",
    "#\n",
    "# with open('us.pkl', 'rb') as f:\n",
    "#     Ytrain = pickle.load(f)\n",
    "\n",
    "data = loadmat(\"trainDataQuad.mat\")\n",
    "Xtrain = data['X']\n",
    "Ytrain = data['y']\n",
    "# data = loadmat(\"quadRotorTrainData.mat\")\n",
    "# Xtrain = data['Xtrain']\n",
    "# Ytrain = data['Ytrain']\n",
    "# A = data['A']\n",
    "# B = data['B']\n",
    "if True:\n",
    "    A = np.zeros((6, 6))\n",
    "    A[0, 3] = 1\n",
    "    A[1, 4] = 1\n",
    "    A[2, 5] = 1\n",
    "\n",
    "    B = np.zeros((6, 3))\n",
    "    B[3, 0] =  9.8\n",
    "    B[4, 1] = -9.8\n",
    "    B[5, 2] =  1\n",
    "\n",
    "    C = np.zeros((6, 1))\n",
    "    C[5] = -9.8\n",
    "\n",
    "    A = np.eye(6) + A * 0.1\n",
    "    B = B * 0.1\n",
    "    C = C * 0.1\n",
    "\n",
    "else:\n",
    "    A = np.array([[1, 1], [0, 1]])\n",
    "    B = np.array([[0.5], [1]])\n",
    "lastDim = 3\n",
    "if trainCompleteLoop:\n",
    "    Ytrain = (A @ Xtrain.T + B @ Ytrain.T + C).T\n",
    "    lastDim = 6\n",
    "\n",
    "# print(torch.linalg.norm(torch.Tensor(B)), torch.linalg.norm(torch.Tensor(A)))\n",
    "# raise\n",
    "# print(A)\n",
    "# print(B)\n",
    "# print(Xtrain.shape)\n",
    "# print(Ytrain.shape)\n",
    "trainset = torch.utils.data.TensorDataset(torch.Tensor(Xtrain), torch.Tensor(Ytrain))\n",
    "\n",
    "\n",
    "net = nn.Sequential(\n",
    "    nn.Linear(6, 64),\n",
    "    nn.ReLU(),\n",
    "    nn.Linear(64, 32),\n",
    "    nn.ReLU(),\n",
    "    nn.Linear(32, lastDim))\n",
    "\n",
    "train_batch_size = 128\n",
    "trainloader = torch.utils.data.DataLoader(trainset, batch_size=train_batch_size, shuffle=True,\n",
    "                                          num_workers=2)\n",
    "epoch = 2000\n",
    "net.train()\n",
    "losses = []\n",
    "\n",
    "def my_loss(output, target):\n",
    "    gamma = 0.2\n",
    "    loss = torch.mean((output - target)**2) \\\n",
    "           # + gamma * torch.linalg.norm(net[-1].weight) \\\n",
    "           #                                      * torch.linalg.norm(net[-3].weight) \\\n",
    "           #                                      * torch.linalg.norm(net[-5].weight)\n",
    "    return loss\n",
    "bestStateDic = None\n",
    "bestLoss = 100000\n",
    "criterion = my_loss\n",
    "optimizer = optim.Adam(net.parameters(), lr=1e-3)\n",
    "scheduler = optim.lr_scheduler.ExponentialLR(optimizer, gamma=0.9)\n",
    "for t in range(epoch):\n",
    "    for i, (X, Y) in enumerate(trainloader):\n",
    "        out = net(X)\n",
    "        loss = criterion(out, Y)\n",
    "\n",
    "\n",
    "        loss.backward()\n",
    "        optimizer.step()\n",
    "\n",
    "        with torch.no_grad():\n",
    "            optimizer.zero_grad()\n",
    "            for i in [0, 2, 4]:\n",
    "                net[i].weight /= torch.maximum(torch.tensor([1]), (torch.linalg.norm(net[i].weight) / 1.))\n",
    "\n",
    "            if loss < bestLoss:\n",
    "                bestLoss = loss\n",
    "                bestStateDic = net.state_dict()\n",
    "    scheduler.step()\n",
    "\n",
    "\n",
    "\n",
    "    losses.append(loss.item())\n",
    "    if (np.mod(t, 10) == 0):\n",
    "        print('epoch: ', t, 'MSE loss: ', loss.item())\n",
    "        print(torch.linalg.norm(net[0].weight) * torch.linalg.norm(net[2].weight) * torch.linalg.norm(net[4].weight))\n",
    "\n",
    "\n"
   ]
  },
  {
   "cell_type": "code",
   "execution_count": null,
   "outputs": [],
   "source": [
    "layers = []\n",
    "dimensions = [6, 32, 32, lastDim]\n",
    "for i in range(len(dimensions) - 1):\n",
    "    layers.append(nn.Linear(dimensions[i], dimensions[i + 1]))\n",
    "    if i < len(dimensions) - 2:\n",
    "        layers.append(nn.ReLU())\n",
    "network = nn.Sequential(*layers)\n",
    "networkClass = NeuralNetwork(\"../randomNetwork.pth\")\n",
    "\n",
    "networkClass.Linear = network\n",
    "torch.save(networkClass.state_dict(), \"../quadRotorCompleteLoopVq.0.pth\")"
   ],
   "metadata": {
    "collapsed": false,
    "pycharm": {
     "name": "#%%\n"
    }
   }
  },
  {
   "cell_type": "code",
   "execution_count": 21,
   "metadata": {
    "pycharm": {
     "name": "#%%\n"
    }
   },
   "outputs": [
    {
     "data": {
      "text/plain": "[<matplotlib.lines.Line2D at 0x290c64a30>]"
     },
     "execution_count": 21,
     "metadata": {},
     "output_type": "execute_result"
    },
    {
     "data": {
      "text/plain": "<Figure size 432x288 with 1 Axes>",
      "image/png": "[encoded data removed]"
     },
     "metadata": {
      "needs_background": "light"
     },
     "output_type": "display_data"
    }
   ],
   "source": [
    "plt.plot(losses)"
   ]
  },
  {
   "cell_type": "code",
   "execution_count": 13,
   "metadata": {
    "pycharm": {
     "name": "#%%\n"
    }
   },
   "outputs": [
    {
     "data": {
      "text/plain": "(11457, 6)"
     },
     "execution_count": 13,
     "metadata": {},
     "output_type": "execute_result"
    }
   ],
   "source": [
    "data = loadmat(\"trainDataQuad.mat\")\n",
    "Xtrain = data['X']\n",
    "Ytrain = data['y']\n",
    "Xtrain.shape"
   ]
  }
 ],
 "metadata": {
  "kernelspec": {
   "display_name": "Python 3.8.10 64-bit",
   "language": "python",
   "name": "python3"
  },
  "language_info": {
   "codemirror_mode": {
    "name": "ipython",
    "version": 3
   },
   "file_extension": ".py",
   "mimetype": "text/x-python",
   "name": "python",
   "nbconvert_exporter": "python",
   "pygments_lexer": "ipython3",
   "version": "3.8.10"
  },
  "orig_nbformat": 4,
  "vscode": {
   "interpreter": {
    "hash": "916dbcbb3f70747c44a77c7bcd40155683ae19c65e1c03b4aa3499c5328201f1"
   }
  }
 },
 "nbformat": 4,
 "nbformat_minor": 2
}