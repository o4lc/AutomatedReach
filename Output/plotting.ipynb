{
 "cells": [
  {
   "cell_type": "code",
   "execution_count": 2,
   "metadata": {
    "collapsed": true,
    "pycharm": {
     "name": "#%%\n"
    }
   },
   "outputs": [
    {
     "name": "stderr",
     "output_type": "stream",
     "text": [
      "`polytope` failed to import `cvxopt.glpk`.\n",
      "will use `scipy.optimize.linprog`\n"
     ]
    }
   ],
   "source": [
    "import matplotlib.pyplot as plt\n",
    "import torch\n",
    "import numpy as np\n",
    "import polytope\n",
    "from matplotlib import pyplot as plt, patches\n",
    "from matplotlib.lines import Line2D"
   ]
  },
  {
   "cell_type": "code",
   "execution_count": 3,
   "metadata": {
    "collapsed": false,
    "pycharm": {
     "name": "#%%\n"
    }
   },
   "outputs": [],
   "source": [
    "reachSdp = torch.load(\"drawingdoubleIntegrator_reachlp.pth\")\n",
    "reachLip = torch.load(\"reachLipdoubleIntegrator_reachlp.pth\")"
   ]
  },
  {
   "cell_type": "code",
   "execution_count": 4,
   "metadata": {
    "collapsed": false,
    "pycharm": {
     "name": "#%%\n"
    }
   },
   "outputs": [
    {
     "name": "stdout",
     "output_type": "stream",
     "text": [
      "dict_keys([0, 1, 2, 3, 4, 5, 'reachlp'])\n",
      "dict_keys([1, 2, 3, 4, 5])\n"
     ]
    }
   ],
   "source": [
    "print(reachLip.keys())\n",
    "print(reachSdp.keys())"
   ]
  },
  {
   "cell_type": "code",
   "execution_count": 5,
   "outputs": [
    {
     "data": {
      "text/plain": "<Figure size 432x288 with 1 Axes>",
      "image/png": "[encoded data removed]"
     },
     "metadata": {
      "needs_background": "light"
     },
     "output_type": "display_data"
    }
   ],
   "source": [
    "firstColor = \"blue\"\n",
    "secondColor = 'black'\n",
    "thirdColor = 'red'\n",
    "\n",
    "fig, ax = plt.subplots()\n",
    "# exact sets\n",
    "for i in range(6):\n",
    "    inputData = reachLip[i]['exactSet']\n",
    "    if i == 0:\n",
    "        label = \"Initial\"\n",
    "    else:\n",
    "        label = \"Horizon \" + str(i)\n",
    "    plt.scatter(inputData[:, 0], inputData[:, 1], marker='.', label=label, alpha=0.5)\n",
    "leg1 = plt.legend()\n",
    "\n",
    "# ReachLip\n",
    "for i in range(1, 6):\n",
    "    AA = -np.array(reachLip[i]['A'])\n",
    "    AA = AA[:, :2]\n",
    "    bb = reachLip[i]['d']\n",
    "\n",
    "    pltp = polytope.Polytope(AA, bb)\n",
    "    ax = pltp.plot(ax, alpha = 1, color='none', edgecolor=firstColor, linewidth=3)\n",
    "    ax.set_xlim([0, 5])\n",
    "    ax.set_ylim([-4, 5])\n",
    "\n",
    "    plt.axis(\"equal\")\n",
    "    plt.xlabel('$x_0$')\n",
    "    plt.ylabel('$x_1$')\n",
    "# ReachLp\n",
    "reachlp = reachLip['reachlp']\n",
    "for i in range(len(reachlp)):\n",
    "    currHorizon = reachlp[i]\n",
    "    rectangle = patches.Rectangle((currHorizon[0][0], currHorizon[1][0]),\n",
    "                    currHorizon[0][1] - currHorizon[0][0],\n",
    "                    currHorizon[1][1] - currHorizon[1][0],\n",
    "                    edgecolor=secondColor, facecolor='none', linewidth=1.5, alpha=1)\n",
    "    x = ax.add_patch(rectangle)\n",
    "#ReachSdp\n",
    "for i in range(1, 6):\n",
    "    AA = np.array(reachSdp[i]['A'])\n",
    "    AA = AA[:, :2]\n",
    "    bb = reachSdp[i]['d']\n",
    "    pltp = polytope.Polytope(AA, bb)\n",
    "    ax = pltp.plot(ax, alpha = 1, color='none', edgecolor=thirdColor, linewidth=1.5)\n",
    "    ax.set_xlim([0, 5])\n",
    "    ax.set_ylim([-4, 5])\n",
    "\n",
    "    plt.axis(\"equal\")\n",
    "    plt.xlabel('$x_0$')\n",
    "    plt.ylabel('$x_1$')\n",
    "\n",
    "custom_lines = [Line2D([0], [0], color=firstColor, lw=2, linestyle='--'),\n",
    "                Line2D([0], [0], color=secondColor, lw=2, linestyle='-'),\n",
    "                Line2D([0], [0], color=thirdColor, lw=2, linestyle='--')]\n",
    "ax.legend(custom_lines, ['ReachLipBnB', 'ReachLp', \"ReachSdp\"], loc=4)\n",
    "\n",
    "plt.gca().add_artist(leg1)\n",
    "# plt.grid()\n",
    "plt.savefig(\"result.png\")\n",
    "\n"
   ],
   "metadata": {
    "collapsed": false,
    "pycharm": {
     "name": "#%%\n"
    }
   }
  },
  {
   "cell_type": "markdown",
   "source": [
    "## ROBOT ARM"
   ],
   "metadata": {
    "collapsed": false,
    "pycharm": {
     "name": "#%% md\n"
    }
   }
  },
  {
   "cell_type": "code",
   "execution_count": null,
   "outputs": [],
   "source": [
    "rA4 = torch.load(\"reachLipRobotArm4.pth\")\n",
    "rA60 = torch.load(\"reachLipRobotArmStateDict2-50-2.pth\")"
   ],
   "metadata": {
    "collapsed": false,
    "pycharm": {
     "name": "#%%\n"
    }
   }
  },
  {
   "cell_type": "code",
   "execution_count": null,
   "outputs": [],
   "source": [
    "firstColor = \"red\"\n",
    "secondColor = 'black'\n",
    "thirdColor = 'magenta'\n",
    "\n",
    "fig, ax = plt.subplots()\n",
    "# exact sets\n",
    "for i in range(1, 2):\n",
    "    inputData = reachLip[i]['exactSet']\n",
    "    plt.scatter(inputData[:, 0], inputData[:, 1], marker='.', alpha=0.5)\n",
    "leg1 = plt.legend()\n",
    "\n",
    "# ReachLip\n",
    "for i in range(1, 2):\n",
    "    AA = -np.array(rA4[i]['A'])\n",
    "    AA = AA[:, :2]\n",
    "    bb = rA4[i]['d']\n",
    "\n",
    "    pltp = polytope.Polytope(AA, bb)\n",
    "    ax = pltp.plot(ax, alpha = 1, color='none', edgecolor=firstColor)\n",
    "    ax.set_xlim([0, 5])\n",
    "    ax.set_ylim([-4, 5])\n",
    "\n",
    "    plt.axis(\"equal\")\n",
    "    plt.xlabel('$x_0$')\n",
    "    plt.ylabel('$x_1$')\n",
    "\n",
    "# ReachLip\n",
    "for i in range(1, 2):\n",
    "    AA = -np.array(rA60[i]['A'])\n",
    "    AA = AA[:, :2]\n",
    "    bb = rA60[i]['d']\n",
    "\n",
    "    pltp = polytope.Polytope(AA, bb)\n",
    "    ax = pltp.plot(ax, alpha = 1, color='none', edgecolor=secondColor)\n",
    "    ax.set_xlim([0, 5])\n",
    "    ax.set_ylim([-4, 5])\n",
    "\n",
    "    plt.axis(\"equal\")\n",
    "    plt.xlabel('$x_0$')\n",
    "    plt.ylabel('$x_1$')\n",
    "\n",
    "custom_lines = [Line2D([0], [0], color=firstColor, lw=2, linestyle='--'),\n",
    "                Line2D([0], [0], color=secondColor, lw=2, linestyle='--'),\n",
    "                # Line2D([0], [0], color=thirdColor, lw=2, linestyle='--')\n",
    "                ]\n",
    "ax.legend(custom_lines, ['Minimal PCA Directions', 'Uniformly Generated Directions'], loc=4)\n",
    "\n",
    "# plt.gca().add_artist(leg1)\n",
    "# plt.grid()\n",
    "plt.savefig(\"result.png\")\n",
    "\n"
   ],
   "metadata": {
    "collapsed": false,
    "pycharm": {
     "name": "#%%\n"
    }
   }
  },
  {
   "cell_type": "markdown",
   "source": [
    "## ROBOT ARM"
   ],
   "metadata": {
    "collapsed": false,
    "pycharm": {
     "name": "#%% md\n"
    }
   }
  },
  {
   "cell_type": "code",
   "execution_count": null,
   "outputs": [],
   "source": [
    "rA4 = torch.load(\"reachLipRobotArm4.pth\")\n",
    "rA60 = torch.load(\"reachLipRobotArmStateDict2-50-2.pth\")"
   ],
   "metadata": {
    "collapsed": false,
    "pycharm": {
     "name": "#%%\n"
    }
   }
  },
  {
   "cell_type": "code",
   "execution_count": null,
   "outputs": [],
   "source": [
    "rA4"
   ],
   "metadata": {
    "collapsed": false,
    "pycharm": {
     "name": "#%%\n"
    }
   }
  },
  {
   "cell_type": "code",
   "execution_count": null,
   "outputs": [],
   "source": [
    "firstColor = \"red\"\n",
    "secondColor = 'black'\n",
    "thirdColor = 'magenta'\n",
    "\n",
    "fig, ax = plt.subplots()\n",
    "# exact sets\n",
    "for i in range(1, 2):\n",
    "    inputData = reachLip[i]['exactSet']\n",
    "    plt.scatter(inputData[:, 0], inputData[:, 1], marker='.', alpha=0.5)\n",
    "leg1 = plt.legend()\n",
    "\n",
    "# ReachLip\n",
    "for i in range(1, 2):\n",
    "    AA = -np.array(rA4[i]['A'])\n",
    "    AA = AA[:, :2]\n",
    "    bb = rA4[i]['d']\n",
    "\n",
    "    pltp = polytope.Polytope(AA, bb)\n",
    "    ax = pltp.plot(ax, alpha = 1, color='none', edgecolor=firstColor)\n",
    "    ax.set_xlim([0, 5])\n",
    "    ax.set_ylim([-4, 5])\n",
    "\n",
    "    plt.axis(\"equal\")\n",
    "    plt.xlabel('$x_0$')\n",
    "    plt.ylabel('$x_1$')\n",
    "\n",
    "# ReachLip\n",
    "for i in range(1, 2):\n",
    "    AA = -np.array(rA60[i]['A'])\n",
    "    AA = AA[:, :2]\n",
    "    bb = rA60[i]['d']\n",
    "\n",
    "    pltp = polytope.Polytope(AA, bb)\n",
    "    ax = pltp.plot(ax, alpha = 1, color='none', edgecolor=secondColor)\n",
    "    ax.set_xlim([0, 5])\n",
    "    ax.set_ylim([-4, 5])\n",
    "\n",
    "    plt.axis(\"equal\")\n",
    "    plt.xlabel('$x_0$')\n",
    "    plt.ylabel('$x_1$')\n",
    "\n",
    "custom_lines = [Line2D([0], [0], color=firstColor, lw=2, linestyle='--'),\n",
    "                Line2D([0], [0], color=secondColor, lw=2, linestyle='--'),\n",
    "                # Line2D([0], [0], color=thirdColor, lw=2, linestyle='--')\n",
    "                ]\n",
    "ax.legend(custom_lines, ['Minimal PCA Directions', 'Uniformly Generated Directions'], loc=4)\n",
    "\n",
    "# plt.gca().add_artist(leg1)\n",
    "# plt.grid()\n",
    "plt.savefig(\"result.png\")\n",
    "\n"
   ],
   "metadata": {
    "collapsed": false,
    "pycharm": {
     "name": "#%%\n"
    }
   }
  },
  {
   "cell_type": "code",
   "execution_count": null,
   "outputs": [],
   "source": [
    "firstColor = \"red\"\n",
    "secondColor = 'black'\n",
    "thirdColor = 'magenta'\n",
    "\n",
    "fig, ax = plt.subplots()\n",
    "# exact sets\n",
    "for i in range(1, 2):\n",
    "    inputData = reachLip[i]['exactSet']\n",
    "    plt.scatter(inputData[:, 0], inputData[:, 1], marker='.', alpha=0.5)\n",
    "leg1 = plt.legend()\n",
    "\n",
    "# ReachLip\n",
    "for i in range(1, 2):\n",
    "    AA = -np.array(rA4[i]['A'])\n",
    "    AA = AA[:, :2]\n",
    "    bb = rA4[i]['d']\n",
    "\n",
    "    pltp = polytope.Polytope(AA, bb)\n",
    "    ax = pltp.plot(ax, alpha = 1, color='none', edgecolor=firstColor)\n",
    "    ax.set_xlim([0, 5])\n",
    "    ax.set_ylim([-4, 5])\n",
    "\n",
    "    plt.axis(\"equal\")\n",
    "    plt.xlabel('$x_0$')\n",
    "    plt.ylabel('$x_1$')\n",
    "\n",
    "# ReachLip\n",
    "for i in range(1, 2):\n",
    "    AA = -np.array(rA60[i]['A'])\n",
    "    AA = AA[:, :2]\n",
    "    bb = rA60[i]['d']\n",
    "\n",
    "    pltp = polytope.Polytope(AA, bb)\n",
    "    ax = pltp.plot(ax, alpha = 1, color='none', edgecolor=secondColor)\n",
    "    ax.set_xlim([0, 5])\n",
    "    ax.set_ylim([-4, 5])\n",
    "\n",
    "    plt.axis(\"equal\")\n",
    "    plt.xlabel('$x_0$')\n",
    "    plt.ylabel('$x_1$')\n",
    "\n",
    "custom_lines = [Line2D([0], [0], color=firstColor, lw=2, linestyle='--'),\n",
    "                Line2D([0], [0], color=secondColor, lw=2, linestyle='--'),\n",
    "                # Line2D([0], [0], color=thirdColor, lw=2, linestyle='--')\n",
    "                ]\n",
    "ax.legend(custom_lines, ['Minimal PCA Directions', 'Uniformly Generated Directions'], loc=4)\n",
    "\n",
    "# plt.gca().add_artist(leg1)\n",
    "# plt.grid()\n",
    "plt.savefig(\"result.png\")\n",
    "\n"
   ],
   "metadata": {
    "collapsed": false,
    "pycharm": {
     "name": "#%%\n"
    }
   }
  },
  {
   "cell_type": "code",
   "execution_count": null,
   "outputs": [],
   "source": [],
   "metadata": {
    "collapsed": false,
    "pycharm": {
     "name": "#%%\n"
    }
   }
  },
  {
   "cell_type": "code",
   "execution_count": null,
   "outputs": [],
   "source": [
    "firstColor = \"red\"\n",
    "secondColor = 'black'\n",
    "thirdColor = 'magenta'\n",
    "\n",
    "fig, ax = plt.subplots()\n",
    "# exact sets\n",
    "for i in range(1, 2):\n",
    "    inputData = reachLip[i]['exactSet']\n",
    "    plt.scatter(inputData[:, 0], inputData[:, 1], marker='.', alpha=0.5)\n",
    "leg1 = plt.legend()\n",
    "\n",
    "# ReachLip\n",
    "for i in range(1, 2):\n",
    "    AA = -np.array(rA4[i]['A'])\n",
    "    AA = AA[:, :2]\n",
    "    bb = rA4[i]['d']\n",
    "\n",
    "    pltp = polytope.Polytope(AA, bb)\n",
    "    ax = pltp.plot(ax, alpha = 1, color='none', edgecolor=firstColor)\n",
    "    ax.set_xlim([0, 5])\n",
    "    ax.set_ylim([-4, 5])\n",
    "\n",
    "    plt.axis(\"equal\")\n",
    "    plt.xlabel('$x_0$')\n",
    "    plt.ylabel('$x_1$')\n",
    "\n",
    "# ReachLip\n",
    "for i in range(1, 2):\n",
    "    AA = -np.array(rA60[i]['A'])\n",
    "    AA = AA[:, :2]\n",
    "    bb = rA60[i]['d']\n",
    "\n",
    "    pltp = polytope.Polytope(AA, bb)\n",
    "    ax = pltp.plot(ax, alpha = 1, color='none', edgecolor=secondColor)\n",
    "    ax.set_xlim([0, 5])\n",
    "    ax.set_ylim([-4, 5])\n",
    "\n",
    "    plt.axis(\"equal\")\n",
    "    plt.xlabel('$x_0$')\n",
    "    plt.ylabel('$x_1$')\n",
    "\n",
    "custom_lines = [Line2D([0], [0], color=firstColor, lw=2, linestyle='--'),\n",
    "                Line2D([0], [0], color=secondColor, lw=2, linestyle='--'),\n",
    "                # Line2D([0], [0], color=thirdColor, lw=2, linestyle='--')\n",
    "                ]\n",
    "ax.legend(custom_lines, ['Minimal PCA Directions', 'Uniformly Generated Directions'], loc=4)\n",
    "\n",
    "# plt.gca().add_artist(leg1)\n",
    "# plt.grid()\n",
    "plt.savefig(\"result.png\")\n",
    "\n"
   ],
   "metadata": {
    "collapsed": false,
    "pycharm": {
     "name": "#%%\n"
    }
   }
  },
  {
   "cell_type": "code",
   "execution_count": null,
   "outputs": [],
   "source": [
    "firstColor = \"red\"\n",
    "secondColor = 'black'\n",
    "thirdColor = 'magenta'\n",
    "\n",
    "fig, ax = plt.subplots()\n",
    "# exact sets\n",
    "for i in range(1, 2):\n",
    "    inputData = reachLip[i]['exactSet']\n",
    "    plt.scatter(inputData[:, 0], inputData[:, 1], marker='.', alpha=0.5)\n",
    "leg1 = plt.legend()\n",
    "\n",
    "# ReachLip\n",
    "for i in range(1, 2):\n",
    "    AA = -np.array(rA4[i]['A'])\n",
    "    AA = AA[:, :2]\n",
    "    bb = rA4[i]['d']\n",
    "\n",
    "    pltp = polytope.Polytope(AA, bb)\n",
    "    ax = pltp.plot(ax, alpha = 1, color='none', edgecolor=firstColor)\n",
    "    ax.set_xlim([0, 5])\n",
    "    ax.set_ylim([-4, 5])\n",
    "\n",
    "    plt.axis(\"equal\")\n",
    "    plt.xlabel('$x_0$')\n",
    "    plt.ylabel('$x_1$')\n",
    "\n",
    "# ReachLip\n",
    "for i in range(1, 2):\n",
    "    AA = -np.array(rA60[i]['A'])\n",
    "    AA = AA[:, :2]\n",
    "    bb = rA60[i]['d']\n",
    "\n",
    "    pltp = polytope.Polytope(AA, bb)\n",
    "    ax = pltp.plot(ax, alpha = 1, color='none', edgecolor=secondColor)\n",
    "    ax.set_xlim([0, 5])\n",
    "    ax.set_ylim([-4, 5])\n",
    "\n",
    "    plt.axis(\"equal\")\n",
    "    plt.xlabel('$x_0$')\n",
    "    plt.ylabel('$x_1$')\n",
    "\n",
    "custom_lines = [Line2D([0], [0], color=firstColor, lw=2, linestyle='--'),\n",
    "                Line2D([0], [0], color=secondColor, lw=2, linestyle='--'),\n",
    "                # Line2D([0], [0], color=thirdColor, lw=2, linestyle='--')\n",
    "                ]\n",
    "ax.legend(custom_lines, ['Minimal PCA Directions', 'Uniformly Generated Directions'], loc=4)\n",
    "\n",
    "# plt.gca().add_artist(leg1)\n",
    "# plt.grid()\n",
    "plt.savefig(\"result.png\")\n",
    "\n"
   ],
   "metadata": {
    "collapsed": false,
    "pycharm": {
     "name": "#%%\n"
    }
   }
  },
  {
   "cell_type": "code",
   "execution_count": null,
   "outputs": [],
   "source": [],
   "metadata": {
    "collapsed": false,
    "pycharm": {
     "name": "#%%\n"
    }
   }
  },
  {
   "cell_type": "code",
   "execution_count": null,
   "outputs": [],
   "source": [
    "firstColor = \"red\"\n",
    "secondColor = 'black'\n",
    "thirdColor = 'magenta'\n",
    "\n",
    "fig, ax = plt.subplots()\n",
    "# exact sets\n",
    "for i in range(1, 2):\n",
    "    inputData = reachLip[i]['exactSet']\n",
    "    plt.scatter(inputData[:, 0], inputData[:, 1], marker='.', alpha=0.5)\n",
    "leg1 = plt.legend()\n",
    "\n",
    "# ReachLip\n",
    "for i in range(1, 2):\n",
    "    AA = -np.array(rA4[i]['A'])\n",
    "    AA = AA[:, :2]\n",
    "    bb = rA4[i]['d']\n",
    "\n",
    "    pltp = polytope.Polytope(AA, bb)\n",
    "    ax = pltp.plot(ax, alpha = 1, color='none', edgecolor=firstColor)\n",
    "    ax.set_xlim([0, 5])\n",
    "    ax.set_ylim([-4, 5])\n",
    "\n",
    "    plt.axis(\"equal\")\n",
    "    plt.xlabel('$x_0$')\n",
    "    plt.ylabel('$x_1$')\n",
    "\n",
    "# ReachLip\n",
    "for i in range(1, 2):\n",
    "    AA = -np.array(rA60[i]['A'])\n",
    "    AA = AA[:, :2]\n",
    "    bb = rA60[i]['d']\n",
    "\n",
    "    pltp = polytope.Polytope(AA, bb)\n",
    "    ax = pltp.plot(ax, alpha = 1, color='none', edgecolor=secondColor)\n",
    "    ax.set_xlim([0, 5])\n",
    "    ax.set_ylim([-4, 5])\n",
    "\n",
    "    plt.axis(\"equal\")\n",
    "    plt.xlabel('$x_0$')\n",
    "    plt.ylabel('$x_1$')\n",
    "\n",
    "custom_lines = [Line2D([0], [0], color=firstColor, lw=2, linestyle='--'),\n",
    "                Line2D([0], [0], color=secondColor, lw=2, linestyle='--'),\n",
    "                # Line2D([0], [0], color=thirdColor, lw=2, linestyle='--')\n",
    "                ]\n",
    "ax.legend(custom_lines, ['Minimal PCA Directions', 'Uniformly Generated Directions'], loc=4)\n",
    "\n",
    "# plt.gca().add_artist(leg1)\n",
    "# plt.grid()\n",
    "plt.savefig(\"result.png\")\n",
    "\n"
   ],
   "metadata": {
    "collapsed": false,
    "pycharm": {
     "name": "#%%\n"
    }
   }
  },
  {
   "cell_type": "code",
   "execution_count": null,
   "outputs": [],
   "source": [
    "firstColor = \"red\"\n",
    "secondColor = 'black'\n",
    "thirdColor = 'magenta'\n",
    "\n",
    "fig, ax = plt.subplots()\n",
    "# exact sets\n",
    "for i in range(1, 2):\n",
    "    inputData = reachLip[i]['exactSet']\n",
    "    plt.scatter(inputData[:, 0], inputData[:, 1], marker='.', alpha=0.5)\n",
    "leg1 = plt.legend()\n",
    "\n",
    "# ReachLip\n",
    "for i in range(1, 2):\n",
    "    AA = -np.array(rA4[i]['A'])\n",
    "    AA = AA[:, :2]\n",
    "    bb = rA4[i]['d']\n",
    "\n",
    "    pltp = polytope.Polytope(AA, bb)\n",
    "    ax = pltp.plot(ax, alpha = 1, color='none', edgecolor=firstColor)\n",
    "    ax.set_xlim([0, 5])\n",
    "    ax.set_ylim([-4, 5])\n",
    "\n",
    "    plt.axis(\"equal\")\n",
    "    plt.xlabel('$x_0$')\n",
    "    plt.ylabel('$x_1$')\n",
    "\n",
    "# ReachLip\n",
    "for i in range(1, 2):\n",
    "    AA = -np.array(rA60[i]['A'])\n",
    "    AA = AA[:, :2]\n",
    "    bb = rA60[i]['d']\n",
    "\n",
    "    pltp = polytope.Polytope(AA, bb)\n",
    "    ax = pltp.plot(ax, alpha = 1, color='none', edgecolor=secondColor)\n",
    "    ax.set_xlim([0, 5])\n",
    "    ax.set_ylim([-4, 5])\n",
    "\n",
    "    plt.axis(\"equal\")\n",
    "    plt.xlabel('$x_0$')\n",
    "    plt.ylabel('$x_1$')\n",
    "\n",
    "custom_lines = [Line2D([0], [0], color=firstColor, lw=2, linestyle='--'),\n",
    "                Line2D([0], [0], color=secondColor, lw=2, linestyle='--'),\n",
    "                # Line2D([0], [0], color=thirdColor, lw=2, linestyle='--')\n",
    "                ]\n",
    "ax.legend(custom_lines, ['Minimal PCA Directions', 'Uniformly Generated Directions'], loc=4)\n",
    "\n",
    "# plt.gca().add_artist(leg1)\n",
    "# plt.grid()\n",
    "plt.savefig(\"result.png\")\n",
    "\n"
   ],
   "metadata": {
    "collapsed": false,
    "pycharm": {
     "name": "#%%\n"
    }
   }
  },
  {
   "cell_type": "code",
   "execution_count": null,
   "outputs": [],
   "source": [],
   "metadata": {
    "collapsed": false,
    "pycharm": {
     "name": "#%%\n"
    }
   }
  },
  {
   "cell_type": "code",
   "execution_count": null,
   "outputs": [],
   "source": [
    "firstColor = \"red\"\n",
    "secondColor = 'black'\n",
    "thirdColor = 'magenta'\n",
    "\n",
    "fig, ax = plt.subplots()\n",
    "# exact sets\n",
    "for i in range(1, 2):\n",
    "    inputData = reachLip[i]['exactSet']\n",
    "    plt.scatter(inputData[:, 0], inputData[:, 1], marker='.', alpha=0.5)\n",
    "leg1 = plt.legend()\n",
    "\n",
    "# ReachLip\n",
    "for i in range(1, 2):\n",
    "    AA = -np.array(rA4[i]['A'])\n",
    "    AA = AA[:, :2]\n",
    "    bb = rA4[i]['d']\n",
    "\n",
    "    pltp = polytope.Polytope(AA, bb)\n",
    "    ax = pltp.plot(ax, alpha = 1, color='none', edgecolor=firstColor)\n",
    "    ax.set_xlim([0, 5])\n",
    "    ax.set_ylim([-4, 5])\n",
    "\n",
    "    plt.axis(\"equal\")\n",
    "    plt.xlabel('$x_0$')\n",
    "    plt.ylabel('$x_1$')\n",
    "\n",
    "# ReachLip\n",
    "for i in range(1, 2):\n",
    "    AA = -np.array(rA60[i]['A'])\n",
    "    AA = AA[:, :2]\n",
    "    bb = rA60[i]['d']\n",
    "\n",
    "    pltp = polytope.Polytope(AA, bb)\n",
    "    ax = pltp.plot(ax, alpha = 1, color='none', edgecolor=secondColor)\n",
    "    ax.set_xlim([0, 5])\n",
    "    ax.set_ylim([-4, 5])\n",
    "\n",
    "    plt.axis(\"equal\")\n",
    "    plt.xlabel('$x_0$')\n",
    "    plt.ylabel('$x_1$')\n",
    "\n",
    "custom_lines = [Line2D([0], [0], color=firstColor, lw=2, linestyle='--'),\n",
    "                Line2D([0], [0], color=secondColor, lw=2, linestyle='--'),\n",
    "                # Line2D([0], [0], color=thirdColor, lw=2, linestyle='--')\n",
    "                ]\n",
    "ax.legend(custom_lines, ['Minimal PCA Directions', 'Uniformly Generated Directions'], loc=4)\n",
    "\n",
    "# plt.gca().add_artist(leg1)\n",
    "# plt.grid()\n",
    "plt.savefig(\"result.png\")\n",
    "\n"
   ],
   "metadata": {
    "collapsed": false,
    "pycharm": {
     "name": "#%%\n"
    }
   }
  },
  {
   "cell_type": "code",
   "execution_count": 9,
   "metadata": {
    "pycharm": {
     "name": "#%%\n"
    }
   },
   "outputs": [
    {
     "name": "stderr",
     "output_type": "stream",
     "text": [
      "No artists with labels found to put in legend.  Note that artists whose label start with an underscore are ignored when legend() is called with no argument.\n"
     ]
    },
    {
     "data": {
      "text/plain": "<Figure size 432x288 with 1 Axes>",
      "image/png": "[encoded data removed]"
     },
     "metadata": {
      "needs_background": "light"
     },
     "output_type": "display_data"
    }
   ],
   "source": [
    "firstColor = \"red\"\n",
    "secondColor = 'black'\n",
    "thirdColor = 'magenta'\n",
    "\n",
    "fig, ax = plt.subplots()\n",
    "# exact sets\n",
    "for i in range(1, 2):\n",
    "    inputData = reachLip[i]['exactSet']\n",
    "    plt.scatter(inputData[:, 0], inputData[:, 1], marker='.', alpha=0.5)\n",
    "leg1 = plt.legend()\n",
    "\n",
    "# ReachLip\n",
    "for i in range(1, 2):\n",
    "    AA = -np.array(rA4[i]['A'])\n",
    "    AA = AA[:, :2]\n",
    "    bb = rA4[i]['d']\n",
    "\n",
    "    pltp = polytope.Polytope(AA, bb)\n",
    "    ax = pltp.plot(ax, alpha = 1, color='none', edgecolor=firstColor)\n",
    "    ax.set_xlim([0, 5])\n",
    "    ax.set_ylim([-4, 5])\n",
    "\n",
    "    plt.axis(\"equal\")\n",
    "    plt.xlabel('$x_0$')\n",
    "    plt.ylabel('$x_1$')\n",
    "\n",
    "# ReachLip\n",
    "for i in range(1, 2):\n",
    "    AA = -np.array(rA60[i]['A'])\n",
    "    AA = AA[:, :2]\n",
    "    bb = rA60[i]['d']\n",
    "\n",
    "    pltp = polytope.Polytope(AA, bb)\n",
    "    ax = pltp.plot(ax, alpha = 1, color='none', edgecolor=secondColor)\n",
    "    ax.set_xlim([0, 5])\n",
    "    ax.set_ylim([-4, 5])\n",
    "\n",
    "    plt.axis(\"equal\")\n",
    "    plt.xlabel('$x_0$')\n",
    "    plt.ylabel('$x_1$')\n",
    "\n",
    "custom_lines = [Line2D([0], [0], color=firstColor, lw=2, linestyle='--'),\n",
    "                Line2D([0], [0], color=secondColor, lw=2, linestyle='--'),\n",
    "                # Line2D([0], [0], color=thirdColor, lw=2, linestyle='--')\n",
    "                ]\n",
    "ax.legend(custom_lines, ['Minimal PCA Directions', 'Uniformly Generated Directions'], loc=4)\n",
    "\n",
    "# plt.gca().add_artist(leg1)\n",
    "# plt.grid()\n",
    "plt.savefig(\"result.png\")\n",
    "\n"
   ]
  },
  {
   "cell_type": "code",
   "execution_count": null,
   "metadata": {
    "pycharm": {
     "name": "#%%\n"
    }
   },
   "outputs": [],
   "source": []
  }
 ],
 "metadata": {
  "kernelspec": {
   "display_name": "Python 3.8.10 64-bit",
   "language": "python",
   "name": "python3"
  },
  "language_info": {
   "codemirror_mode": {
    "name": "ipython",
    "version": 3
   },
   "file_extension": ".py",
   "mimetype": "text/x-python",
   "name": "python",
   "nbconvert_exporter": "python",
   "pygments_lexer": "ipython3",
   "version": "3.8.10"
  },
  "vscode": {
   "interpreter": {
    "hash": "916dbcbb3f70747c44a77c7bcd40155683ae19c65e1c03b4aa3499c5328201f1"
   }
  }
 },
 "nbformat": 4,
 "nbformat_minor": 0
}