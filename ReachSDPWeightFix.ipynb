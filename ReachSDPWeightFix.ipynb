{
 "cells": [
  {
   "cell_type": "code",
   "execution_count": 1,
   "metadata": {},
   "outputs": [],
   "source": [
    "import torch\n",
    "\n",
    "from packages import *\n",
    "\n",
    "from BranchAndBound import BranchAndBound\n",
    "from NeuralNetwork import NeuralNetwork"
   ]
  },
  {
   "cell_type": "code",
   "execution_count": 92,
   "metadata": {},
   "outputs": [
    {
     "name": "stdout",
     "output_type": "stream",
     "text": [
      "Sequential(\n",
      "  (0): Linear(in_features=3, out_features=5, bias=True)\n",
      "  (1): ReLU()\n",
      "  (2): Linear(in_features=5, out_features=3, bias=True)\n",
      ")\n"
     ]
    },
    {
     "data": {
      "text/plain": [
       "([tensor([[-0.1564, -0.1740, -0.0865],\n",
       "          [-0.4800, -0.1514, -0.2694],\n",
       "          [ 0.5363,  0.0138,  1.0077],\n",
       "          [-0.0228, -0.1505,  0.0774],\n",
       "          [-0.4973, -0.4906,  0.3249]], grad_fn=<AliasBackward0>),\n",
       "  tensor([[-0.0616, -0.3559, -1.8353, -0.1595, -0.3297],\n",
       "          [ 0.1903, -0.0918, -0.2180,  0.2999,  0.0706],\n",
       "          [ 0.1374, -0.0473, -0.0129,  0.0225,  0.3771]],\n",
       "         grad_fn=<AliasBackward0>)],\n",
       " [tensor([-0.2415, -0.5304, -1.2769, -0.2195, -0.4591], grad_fn=<AliasBackward0>),\n",
       "  tensor([ 1.2264,  3.1160, -0.8564], grad_fn=<AliasBackward0>)])"
      ]
     },
     "execution_count": 92,
     "metadata": {},
     "output_type": "execute_result"
    }
   ],
   "source": [
    "fileName = \"Test3-5-3.pth\"\n",
    "pathToStateDictionary = \"Networks/\" + fileName\n",
    "network = NeuralNetwork(pathToStateDictionary)\n",
    "dim = network.Linear[0].weight.shape[1]\n",
    "\n",
    "outputDim = network.Linear[-1].weight.shape[0]\n",
    "device = torch.device(\"cpu\")\n",
    "network.to(device)\n",
    "\n",
    "W = []\n",
    "bias = []\n",
    "print(network.Linear)\n",
    "for i in range(len(network.Linear)):\n",
    "    if i%2:\n",
    "        continue\n",
    "    W.append(torch.Tensor(network.Linear[i].weight))\n",
    "    bias.append(torch.Tensor(network.Linear[i].bias))\n",
    "\n",
    "\n",
    "W, bias"
   ]
  },
  {
   "cell_type": "code",
   "execution_count": 93,
   "metadata": {},
   "outputs": [
    {
     "data": {
      "text/plain": [
       "tensor([[0., 0., 0., 1., 0., 0.],\n",
       "        [0., 0., 0., 0., 1., 0.],\n",
       "        [0., 0., 0., 0., 0., 1.],\n",
       "        [0., 0., 0., 0., 0., 0.],\n",
       "        [0., 0., 0., 0., 0., 0.],\n",
       "        [0., 0., 0., 0., 0., 0.]])"
      ]
     },
     "execution_count": 93,
     "metadata": {},
     "output_type": "execute_result"
    }
   ],
   "source": [
    "A = torch.zeros((2*dim, 2*dim))\n",
    "A[:dim, dim:] = torch.eye(dim)\n",
    "A"
   ]
  },
  {
   "cell_type": "code",
   "execution_count": 94,
   "metadata": {},
   "outputs": [
    {
     "data": {
      "text/plain": [
       "tensor([[ 0.0000,  0.0000,  0.0000],\n",
       "        [ 0.0000,  0.0000,  0.0000],\n",
       "        [ 0.0000,  0.0000,  0.0000],\n",
       "        [ 9.8000,  0.0000,  0.0000],\n",
       "        [ 0.0000, -9.8000,  0.0000],\n",
       "        [ 0.0000,  0.0000,  1.0000]])"
      ]
     },
     "execution_count": 94,
     "metadata": {},
     "output_type": "execute_result"
    }
   ],
   "source": [
    "g = 9.8\n",
    "\n",
    "B = torch.zeros((2*dim, dim))\n",
    "B[dim:] = torch.eye(dim)\n",
    "B[3,0] = g\n",
    "B[4,1] = -g\n",
    "B"
   ]
  },
  {
   "cell_type": "code",
   "execution_count": 103,
   "metadata": {},
   "outputs": [],
   "source": [
    "class NeuralNetworkforReachSDP(nn.Module):\n",
    "    def __init__(self, path, A, B):\n",
    "        self.statedim = 6\n",
    "        self.controlstate = 3\n",
    "\n",
    "        super().__init__()\n",
    "        stateDictionary = torch.load(path, map_location=torch.device(\"cpu\"))\n",
    "        layers = []\n",
    "        for keyEntry in stateDictionary:\n",
    "            if \"weight\" in keyEntry:\n",
    "                layers.append(nn.Linear(stateDictionary[keyEntry].shape[1] + self.statedim,\n",
    "                                             stateDictionary[keyEntry].shape[0] + self.statedim))\n",
    "                layers.append(nn.ReLU())\n",
    "        \n",
    "        layers.append(nn.Linear(self.statedim + self.controlstate, self.statedim))\n",
    "        \n",
    "        self.Linear = nn.Sequential(\n",
    "            *layers\n",
    "        )\n",
    "\n",
    "        print(self.Linear[0].weight)\n",
    "        for i in range(len(network.Linear)):\n",
    "            if i%2:\n",
    "                continue\n",
    "            self.Linear[i].weight[]\n",
    "        \n",
    "        # print(self.state_dict)\n",
    "        # print(self.Linear[0].weight)\n",
    "\n",
    "    def load(self, path):\n",
    "        stateDict = torch.load(path, map_location=torch.device(\"cpu\"))\n",
    "        self.load_state_dict(stateDict)\n",
    "\n",
    "    # @TODO\n",
    "    # def train(self):\n",
    "\n",
    "    def forward(self, x):\n",
    "        return self.Linear(x)"
   ]
  },
  {
   "cell_type": "code",
   "execution_count": 104,
   "metadata": {},
   "outputs": [
    {
     "name": "stdout",
     "output_type": "stream",
     "text": [
      "Parameter containing:\n",
      "tensor([[-0.1638, -0.3185,  0.0115, -0.1761,  0.3117, -0.1502,  0.0601,  0.2689,\n",
      "         -0.0373],\n",
      "        [-0.0224, -0.2686,  0.0427, -0.3298,  0.2919, -0.2436, -0.0060, -0.2801,\n",
      "         -0.2731],\n",
      "        [ 0.2951, -0.2692, -0.1594,  0.0570, -0.1634, -0.0800,  0.1281, -0.1019,\n",
      "         -0.0089],\n",
      "        [ 0.2855, -0.1600,  0.2281, -0.1333, -0.0440,  0.0587, -0.1725, -0.0618,\n",
      "         -0.3060],\n",
      "        [ 0.1940,  0.0892,  0.0946,  0.0583,  0.2580,  0.2573, -0.0520, -0.0121,\n",
      "         -0.0629],\n",
      "        [ 0.3010, -0.1507, -0.2232,  0.3107, -0.2491, -0.2080, -0.2539,  0.3000,\n",
      "          0.1587],\n",
      "        [-0.3294,  0.3243, -0.0822, -0.2960,  0.0641,  0.3128, -0.0441,  0.0621,\n",
      "          0.0289],\n",
      "        [-0.0246,  0.3241,  0.2621, -0.2734, -0.2330,  0.1425, -0.0538,  0.0265,\n",
      "         -0.1396],\n",
      "        [ 0.0204,  0.2033,  0.2516,  0.2451, -0.1466, -0.1373, -0.2390,  0.3216,\n",
      "         -0.1084],\n",
      "        [-0.3175, -0.0475, -0.0063,  0.3017,  0.2401,  0.0745,  0.2706, -0.1633,\n",
      "          0.2454],\n",
      "        [-0.3030, -0.0703,  0.3144, -0.0358, -0.3023, -0.2408,  0.1518, -0.2384,\n",
      "          0.2801]], requires_grad=True)\n"
     ]
    }
   ],
   "source": [
    "network = NeuralNetworkforReachSDP(pathToStateDictionary, A, B)\n"
   ]
  },
  {
   "cell_type": "code",
   "execution_count": null,
   "metadata": {},
   "outputs": [],
   "source": []
  }
 ],
 "metadata": {
  "kernelspec": {
   "display_name": "Python 3.8.10 64-bit",
   "language": "python",
   "name": "python3"
  },
  "language_info": {
   "codemirror_mode": {
    "name": "ipython",
    "version": 3
   },
   "file_extension": ".py",
   "mimetype": "text/x-python",
   "name": "python",
   "nbconvert_exporter": "python",
   "pygments_lexer": "ipython3",
   "version": "3.8.10"
  },
  "orig_nbformat": 4,
  "vscode": {
   "interpreter": {
    "hash": "916dbcbb3f70747c44a77c7bcd40155683ae19c65e1c03b4aa3499c5328201f1"
   }
  }
 },
 "nbformat": 4,
 "nbformat_minor": 2
}
