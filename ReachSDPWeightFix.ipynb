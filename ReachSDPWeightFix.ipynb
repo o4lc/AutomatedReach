{
 "cells": [
  {
   "cell_type": "code",
   "execution_count": 1,
   "metadata": {},
   "outputs": [],
   "source": [
    "import torch\n",
    "\n",
    "from packages import *\n",
    "\n",
    "from BranchAndBound import BranchAndBound\n",
    "from NeuralNetwork import NeuralNetwork"
   ]
  },
  {
   "cell_type": "code",
   "execution_count": 2,
   "metadata": {},
   "outputs": [],
   "source": [
    "# fileName = \"Test3-5-3.pth\"\n",
    "# pathToStateDictionary = \"Networks/\" + fileName\n",
    "# network = NeuralNetwork(pathToStateDictionary)\n",
    "# dim = network.Linear[0].weight.shape[1]\n",
    "\n",
    "# outputDim = network.Linear[-1].weight.shape[0]\n",
    "# device = torch.device(\"cpu\")\n",
    "# network.to(device)\n",
    "\n",
    "# W = []\n",
    "# bias = []\n",
    "# print(network.Linear)\n",
    "# for i in range(len(network.Linear)):\n",
    "#     if i%2:\n",
    "#         continue\n",
    "#     W.append(torch.Tensor(network.Linear[i].weight))\n",
    "#     bias.append(torch.Tensor(network.Linear[i].bias))\n",
    "\n",
    "\n",
    "# W, bias"
   ]
  },
  {
   "cell_type": "code",
   "execution_count": 3,
   "metadata": {},
   "outputs": [],
   "source": [
    "# A = torch.zeros((2*dim, 2*dim))\n",
    "# A[:dim, dim:] = torch.eye(dim)\n",
    "# A"
   ]
  },
  {
   "cell_type": "code",
   "execution_count": 4,
   "metadata": {},
   "outputs": [],
   "source": [
    "# g = 9.8\n",
    "\n",
    "# B = torch.zeros((2*dim, dim))\n",
    "# B[dim:] = torch.eye(dim)\n",
    "# B[3,0] = g\n",
    "# B[4,1] = -g\n",
    "# B"
   ]
  },
  {
   "cell_type": "code",
   "execution_count": 5,
   "metadata": {},
   "outputs": [],
   "source": [
    "# class NeuralNetworkforReachSDP(nn.Module):\n",
    "#     def __init__(self, path, A, B):\n",
    "#         self.statedim = 6\n",
    "#         self.controlstate = 3\n",
    "\n",
    "#         super().__init__()\n",
    "#         stateDictionary = torch.load(path, map_location=torch.device(\"cpu\"))\n",
    "#         layers = []\n",
    "#         for keyEntry in stateDictionary:\n",
    "#             if \"weight\" in keyEntry:\n",
    "#                 layers.append(nn.Linear(stateDictionary[keyEntry].shape[1] + self.statedim,\n",
    "#                                              stateDictionary[keyEntry].shape[0] + self.statedim))\n",
    "#                 layers.append(nn.ReLU())\n",
    "        \n",
    "#         layers.append(nn.Linear(self.statedim + self.controlstate, self.statedim))\n",
    "        \n",
    "#         self.Linear = nn.Sequential(\n",
    "#             *layers\n",
    "#         )\n",
    "\n",
    "#         print(self.Linear[0].weight)\n",
    "#         for i in range(len(network.Linear)):\n",
    "#             if i%2:\n",
    "#                 continue\n",
    "#             self.Linear[i].weight[]\n",
    "        \n",
    "#         # print(self.state_dict)\n",
    "#         # print(self.Linear[0].weight)\n",
    "\n",
    "#     def load(self, path):\n",
    "#         stateDict = torch.load(path, map_location=torch.device(\"cpu\"))\n",
    "#         self.load_state_dict(stateDict)\n",
    "\n",
    "#     # @TODO\n",
    "#     # def train(self):\n",
    "\n",
    "#     def forward(self, x):\n",
    "#         return self.Linear(x)"
   ]
  },
  {
   "cell_type": "code",
   "execution_count": 6,
   "metadata": {},
   "outputs": [],
   "source": [
    "# network = NeuralNetworkforReachSDP(pathToStateDictionary, A, B)"
   ]
  },
  {
   "cell_type": "markdown",
   "metadata": {},
   "source": [
    "### Approach 2"
   ]
  },
  {
   "cell_type": "code",
   "execution_count": 28,
   "metadata": {},
   "outputs": [],
   "source": [
    "import scipy.io"
   ]
  },
  {
   "cell_type": "code",
   "execution_count": 37,
   "metadata": {},
   "outputs": [],
   "source": [
    "def loadData(fileLocation=\"./Networks/nnmpc_nets_di_1.mat\"):\n",
    "    nn = scipy.io.loadmat(fileLocation)\n",
    "    if 'net' in nn.keys():\n",
    "        net = nn['net']\n",
    "        bs = [net['biases'][0, 0][0, 0], net['biases'][0, 0][0, 1], net['biases'][0, 0][0, 2]]\n",
    "        Ws = [net['weights'][0, 0][0, 0], net['weights'][0, 0][0, 1], net['weights'][0, 0][0, 2]]\n",
    "        A = nn['AMatrix']\n",
    "        B = nn['BMatrix']\n",
    "        lu = 10 * (np.random.rand(2, 2) - 0.5)\n",
    "    else:\n",
    "        bs = [nn['biases'][0, 0], nn['biases'][0, 1], nn['biases'][0, 2]]\n",
    "        Ws = [nn['weights'][0, 0], nn['weights'][0, 1], nn['weights'][0, 2]]\n",
    "        \n",
    "        A = np.array([[1, 1], [0, 1]])\n",
    "        B = np.array([[0.5], [1]])\n",
    "\n",
    "        lu = np.array([[1, 2],\n",
    "                   [1.5, 2.5]])\n",
    "\n",
    "    uDimension = Ws[-1].shape[0]\n",
    "    # uDimension = 1  # the code is not designed for other scenarios\n",
    "    uBounds = np.array([[-np.pi/9, np.pi/9],\n",
    "                        [-np.pi/9, np.pi/9],\n",
    "                        [0, 2*9.8]])\n",
    "\n",
    "    if uBounds.shape[0] != uDimension:\n",
    "        raise \"Error in uBounds\"\n",
    "\n",
    "    Ws.append(-np.eye(uDimension))\n",
    "    Ws.append(-np.eye(uDimension))\n",
    "    bs[-1] -= uBounds[:, 0:1]\n",
    "    bs.append(uBounds[:, 1:2] - uBounds[:, 0:1])\n",
    "    bs.append(uBounds[:, 1:2])\n",
    "\n",
    "    dimensionList = [w.shape for w in Ws]\n",
    "    return A, B, Ws, bs, lu, dimensionList\n"
   ]
  },
  {
   "cell_type": "code",
   "execution_count": 52,
   "metadata": {},
   "outputs": [
    {
     "name": "stdout",
     "output_type": "stream",
     "text": [
      "[(32, 6), (32, 32), (3, 32), (3, 3), (3, 3)]\n"
     ]
    }
   ],
   "source": [
    "A, B, Ws, bs, lu, dimensionList = loadData('./Networks/quadRotorv2.0.mat')\n",
    "print(dimensionList)"
   ]
  },
  {
   "cell_type": "code",
   "execution_count": 53,
   "metadata": {},
   "outputs": [],
   "source": [
    "class NeuralNetworktemp(nn.Module):\n",
    "    def __init__(self, Ws, bs, dimensionList):\n",
    "        super().__init__()\n",
    "        layers = []\n",
    "        for i in range(len(dimensionList)):\n",
    "            netSize = dimensionList[i]\n",
    "\n",
    "            layers.append(nn.Linear(netSize[1], netSize[0]))\n",
    "            layers[-1].weight = torch.nn.parameter.Parameter(torch.from_numpy(Ws[i]).float())\n",
    "            layers[-1].bias = torch.nn.parameter.Parameter(torch.from_numpy(bs[i][:, 0]).float())\n",
    "            layers.append(nn.ReLU())\n",
    "\n",
    "        layers.pop()\n",
    "        self.Linear = nn.Sequential(\n",
    "            *layers\n",
    "        )\n",
    "\n",
    "        print(self)\n",
    "\n",
    "    def forward(self, x):\n",
    "        return self.Linear(x)\n"
   ]
  },
  {
   "cell_type": "code",
   "execution_count": 54,
   "metadata": {},
   "outputs": [
    {
     "name": "stdout",
     "output_type": "stream",
     "text": [
      "NeuralNetworktemp(\n",
      "  (Linear): Sequential(\n",
      "    (0): Linear(in_features=6, out_features=32, bias=True)\n",
      "    (1): ReLU()\n",
      "    (2): Linear(in_features=32, out_features=32, bias=True)\n",
      "    (3): ReLU()\n",
      "    (4): Linear(in_features=32, out_features=3, bias=True)\n",
      "    (5): ReLU()\n",
      "    (6): Linear(in_features=3, out_features=3, bias=True)\n",
      "    (7): ReLU()\n",
      "    (8): Linear(in_features=3, out_features=3, bias=True)\n",
      "  )\n",
      ")\n"
     ]
    }
   ],
   "source": [
    "nnet = NeuralNetworktemp(Ws, bs, dimensionList)\n",
    "torch.save(nnet.state_dict(), './Networks/quadRotorv2.0.pth')"
   ]
  },
  {
   "cell_type": "code",
   "execution_count": 44,
   "metadata": {},
   "outputs": [
    {
     "name": "stdout",
     "output_type": "stream",
     "text": [
      "Parameter containing:\n",
      "tensor([-0.0366, -0.5006, -0.0287,  0.2468,  0.1089, -0.1874, -0.0308,  0.0423,\n",
      "         0.1505, -0.3510, -0.4049, -0.1228, -0.0959, -0.0497, -0.2564, -0.0347,\n",
      "        -0.3925, -0.1830, -0.0517, -0.2847, -0.0009, -0.3425, -0.0375, -0.2366,\n",
      "        -0.1291, -0.0923, -0.2565,  0.2335,  0.0200, -0.2238,  0.2743,  0.1077],\n",
      "       requires_grad=True)\n"
     ]
    }
   ],
   "source": [
    "print(nnet.Linear[0].bias)"
   ]
  },
  {
   "cell_type": "markdown",
   "metadata": {},
   "source": [
    "### AProach 3"
   ]
  },
  {
   "cell_type": "code",
   "execution_count": 8,
   "metadata": {},
   "outputs": [],
   "source": [
    "from packages import *\n",
    "\n",
    "\n",
    "class NeuralNetwork(nn.Module):\n",
    "    def __init__(self, path, A=None, B=None, c=None):\n",
    "        super().__init__()\n",
    "        stateDictionary = torch.load(path, map_location=torch.device(\"cpu\"))['stateDict']\n",
    "        layers = []\n",
    "        for keyEntry in stateDictionary:\n",
    "            if \"weight\" in keyEntry:\n",
    "                layers.append(nn.Linear(stateDictionary[keyEntry].shape[1], stateDictionary[keyEntry].shape[0]))\n",
    "                layers.append(nn.ReLU())\n",
    "        layers.pop()\n",
    "        self.Linear = nn.Sequential(\n",
    "            *layers\n",
    "        )\n",
    "        self.rotation = nn.Identity()\n",
    "        print(self)\n",
    "        print(stateDictionary)\n",
    "        dictionary = {}\n",
    "        for i in [0, 2, 4]:\n",
    "            temp_w = \"Linear.\" + str(i) +  \".weight\"\n",
    "            temp_b = \"Linear.\" + str(i) +  \".bias\"\n",
    "            dictionary[temp_w] = stateDictionary[str(i) + '.weight']\n",
    "            dictionary[temp_b] = stateDictionary[str(i) + '.bias']\n",
    "\n",
    "        self.load_state_dict(dictionary)\n",
    "        \n",
    "        self.A = A\n",
    "        self.B = B\n",
    "        self.c = c\n",
    "        if self.A is None:\n",
    "            dimInp = self.Linear[0].weight.shape[1]\n",
    "            self.A = torch.zeros((dimInp, dimInp)).float()\n",
    "            self.B = torch.eye((dimInp)).float()\n",
    "            self.c = torch.zeros(dimInp).float()\n",
    "        self.repetition = 1\n",
    "\n",
    "    def load(self, path):\n",
    "        stateDict = torch.load(path, map_location=torch.device(\"cpu\"))\n",
    "        self.load_state_dict(stateDict)\n",
    "\n",
    "    def forward(self, x):\n",
    "        x = self.rotation(x)\n",
    "        for i in range(self.repetition):\n",
    "            x = x @ self.A.T + self.Linear(x) @ self.B.T + self.c\n",
    "        return x"
   ]
  },
  {
   "cell_type": "code",
   "execution_count": 9,
   "metadata": {},
   "outputs": [
    {
     "name": "stdout",
     "output_type": "stream",
     "text": [
      "NeuralNetwork(\n",
      "  (Linear): Sequential(\n",
      "    (0): Linear(in_features=2, out_features=10, bias=True)\n",
      "    (1): ReLU()\n",
      "    (2): Linear(in_features=10, out_features=5, bias=True)\n",
      "    (3): ReLU()\n",
      "    (4): Linear(in_features=5, out_features=1, bias=True)\n",
      "  )\n",
      "  (rotation): Identity()\n",
      ")\n",
      "OrderedDict([('0.weight', tensor([[ 0.0096,  0.0736],\n",
      "        [ 0.3017, -0.6268],\n",
      "        [-0.4645,  0.5666],\n",
      "        [ 0.6853,  0.7431],\n",
      "        [ 0.1216, -0.5499],\n",
      "        [-0.4705,  0.6522],\n",
      "        [ 0.5109,  0.5491],\n",
      "        [ 0.6694,  0.5562],\n",
      "        [-0.1820, -0.3704],\n",
      "        [-0.1960,  0.0544]])), ('0.bias', tensor([-0.0483,  0.0941,  0.0000,  0.0381,  0.2122,  0.0000,  0.0650,  0.0197,\n",
      "        -0.1224,  0.0000])), ('2.weight', tensor([[ 0.5235,  0.1980,  0.2334,  0.3425, -0.6947,  0.5360,  0.2231, -0.4651,\n",
      "          0.1069,  0.1825],\n",
      "        [-0.0959, -0.1040, -0.5321,  0.5866,  0.2049, -0.4737,  0.4564,  0.5498,\n",
      "          0.4233, -0.3574],\n",
      "        [ 0.4046,  0.4450, -0.2218,  0.2496,  0.4490,  0.1242, -0.4554, -0.3832,\n",
      "         -0.3601,  0.4605],\n",
      "        [-0.0447,  0.4433, -0.6128, -0.3732, -0.3384,  0.5119,  0.5847, -0.4152,\n",
      "         -0.5670, -0.3573],\n",
      "        [ 0.1660,  0.0900,  0.5319, -0.5837,  0.0959, -0.2952, -0.4316, -0.3262,\n",
      "         -0.1918, -0.2811]])), ('2.bias', tensor([-0.1131,  0.2023,  0.2075,  0.0450, -0.0867])), ('4.weight', tensor([[ 0.7913, -0.2525,  0.7792,  0.5987, -0.1101]])), ('4.bias', tensor([-0.1898]))])\n"
     ]
    }
   ],
   "source": [
    "fileLocation=\"./Networks/doubleIntegrator_reachlp.pth\"\n",
    "nn = NeuralNetwork(fileLocation)"
   ]
  },
  {
   "cell_type": "code",
   "execution_count": 10,
   "metadata": {},
   "outputs": [],
   "source": [
    "torch.save(nn.state_dict(), './Networks/doubleIntegrator_reachlp.pth')\n"
   ]
  },
  {
   "cell_type": "code",
   "execution_count": null,
   "metadata": {},
   "outputs": [],
   "source": []
  }
 ],
 "metadata": {
  "kernelspec": {
   "display_name": "Python 3.8.10 64-bit",
   "language": "python",
   "name": "python3"
  },
  "language_info": {
   "codemirror_mode": {
    "name": "ipython",
    "version": 3
   },
   "file_extension": ".py",
   "mimetype": "text/x-python",
   "name": "python",
   "nbconvert_exporter": "python",
   "pygments_lexer": "ipython3",
   "version": "3.8.10"
  },
  "orig_nbformat": 4,
  "vscode": {
   "interpreter": {
    "hash": "916dbcbb3f70747c44a77c7bcd40155683ae19c65e1c03b4aa3499c5328201f1"
   }
  }
 },
 "nbformat": 4,
 "nbformat_minor": 2
}
